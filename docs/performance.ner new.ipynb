{
 "cells": [
  {
   "attachments": {},
   "cell_type": "markdown",
   "metadata": {},
   "source": [
    "# Named Entity Recognition\n",
    "\n",
    "[![Open In Colab](https://colab.research.google.com/assets/colab-badge.svg)](https://colab.research.google.com/github/KennethEnevoldsen/DaCy/blob/master/docs/performance.ner.ipynb)\n",
    "\n",
    "\n",
    "This page examines the performance of competing models for Danish named entity recognition over multiple datasets. Performance is not limited to \n",
    "accuracy, but also includes domain generalization, biases and robustness. This page is also a notebook, which open and replicate the results."
   ]
  },
  {
   "attachments": {},
   "cell_type": "markdown",
   "metadata": {},
   "source": [
    "## State-of-the-Art comparison\n",
    "To our knowledge there exists three datasets for Danish named entity recognition;\n",
    "\n",
    "1) DaNE {cite}`hvingelby2020dane`, which uses the simple annotation scheme of CoNLL 2003 {cite}`missing` with the entities; *person*, *location*, *organization*, and *miscellaneus*.\n",
    "2) DANSK {cite}`missing`, which uses the extensive annotation scheme similar to that of OntoNotes 5.0 {cite}`missing` including more that 16 entity types.\n",
    "3) and DAN+ {cite}`missing`, which also uses the annotation scheme of CoNLL 2003, but allows for nested entities for instance *Aarhus Universitet*, where *Aarhus* is a location and *Aarhus Universitet* is an organization.\n",
    "\n",
    "In this comparison we will be examing performance on DaNE and DANSK, but as no known models have been trained on Danish nested entities, we will not be comparing performance on DAN+.\n",
    "\n",
    "\n",
    "```{admonition} Measuring Performance\n",
    "Typically when measuring performance on these benchmark it is normal to feed the model the gold standard tokens. While this allows for easier comparisons of modules and architectures, it inflates the performance metrics. Further, it does not proberly reflect what you are really interested in:\n",
    "*the performance you can expect when you apply the model to data of a similar type*. Therefore we estimate the model is given no prior knowledge of the data, and only the raw text is fed to the model. Thus the performance metrics might be slightly different compared to e.g. DaNLP.\n",
    "```"
   ]
  },
  {
   "attachments": {},
   "cell_type": "markdown",
   "metadata": {},
   "source": [
    "### DaNE: Simple Named Entity Recognition\n",
    "As already stated DaNE uses an extraction from the CoNLL 2003 dataset, which is as follows {cite}`hvingelby2020dane`:\n"
   ]
  },
  {
   "attachments": {},
   "cell_type": "markdown",
   "metadata": {},
   "source": [
    "\n",
    "\n",
    "| Entity | Description |\n",
    "|--------------|-------------|\n",
    "| LOC          | includes locations like cities, roads and mountains, as well as both public and commercial places like specific buildings or meeting points, but also abstract places. |\n",
    "| PERSON | consists of names of people, fictional characters, and animals. The names includes aliases. |\n",
    "| ORG | can be summarized as all sorts of organizations and collections of people, ranging from companies, brands, political movements, governmental bodies and clubs. |\n",
    "| MISC | is a broad category of e.g. events, languages, titles and religions, but this tag also includes words derived from one of the four tags as well as words for which one part is from one of the three other tags. |\n",
    "\n",
    "Here is an example from the dataset:"
   ]
  },
  {
   "cell_type": "code",
   "execution_count": 1,
   "metadata": {},
   "outputs": [
    {
     "data": {
      "text/html": [
       "<span class=\"tex2jax_ignore\"><div class=\"entities\" style=\"line-height: 2.5; direction: ltr\">To kendte \n",
       "<mark class=\"entity\" style=\"background: #ddd; padding: 0.45em 0.6em; margin: 0 0.25em; line-height: 1; border-radius: 0.35em;\">\n",
       "    russiske\n",
       "    <span style=\"font-size: 0.8em; font-weight: bold; line-height: 1; border-radius: 0.35em; vertical-align: middle; margin-left: 0.5rem\">MISC</span>\n",
       "</mark>\n",
       " historikere \n",
       "<mark class=\"entity\" style=\"background: #aa9cfc; padding: 0.45em 0.6em; margin: 0 0.25em; line-height: 1; border-radius: 0.35em;\">\n",
       "    Andronik Mirganjan\n",
       "    <span style=\"font-size: 0.8em; font-weight: bold; line-height: 1; border-radius: 0.35em; vertical-align: middle; margin-left: 0.5rem\">PERSON</span>\n",
       "</mark>\n",
       " og \n",
       "<mark class=\"entity\" style=\"background: #aa9cfc; padding: 0.45em 0.6em; margin: 0 0.25em; line-height: 1; border-radius: 0.35em;\">\n",
       "    Igor Klamkin\n",
       "    <span style=\"font-size: 0.8em; font-weight: bold; line-height: 1; border-radius: 0.35em; vertical-align: middle; margin-left: 0.5rem\">PERSON</span>\n",
       "</mark>\n",
       " tror ikke, at \n",
       "<mark class=\"entity\" style=\"background: #ff9561; padding: 0.45em 0.6em; margin: 0 0.25em; line-height: 1; border-radius: 0.35em;\">\n",
       "    Rusland\n",
       "    <span style=\"font-size: 0.8em; font-weight: bold; line-height: 1; border-radius: 0.35em; vertical-align: middle; margin-left: 0.5rem\">LOC</span>\n",
       "</mark>\n",
       " kan udvikles uden en &quot;jernnæve&quot;.</div></span>"
      ],
      "text/plain": [
       "<IPython.core.display.HTML object>"
      ]
     },
     "metadata": {},
     "output_type": "display_data"
    }
   ],
   "source": [
    "import spacy\n",
    "from spacy.tokens import Span\n",
    "from spacy import displacy\n",
    "\n",
    "text = \"\"\"To kendte russiske historikere Andronik Mirganjan og Igor Klamkin tror ikke, at Rusland kan udvikles uden en \"jernnæve\".\"\"\"\n",
    "nlp = spacy.blank(\"da\")\n",
    "doc = nlp(text)\n",
    "doc.ents = [  # type: ignore\n",
    "    Span(doc, 2, 3, label=\"MISC\"),\n",
    "    Span(doc, 4, 6, label=\"PERSON\"),\n",
    "    Span(doc, 7, 9, label=\"PERSON\"),\n",
    "    Span(doc, 13, 14, label=\"LOC\"),\n",
    "]\n",
    "\n",
    "displacy.render(doc, style=\"ent\")"
   ]
  },
  {
   "attachments": {},
   "cell_type": "markdown",
   "metadata": {},
   "source": [
    "The table below shows the performance of Danish language processing pipelines scored on the DaNE test set. The best scores in each category are highlighted with bold and the second best is underlined."
   ]
  },
  {
   "cell_type": "code",
   "execution_count": 2,
   "metadata": {},
   "outputs": [],
   "source": [
    "from evaluation.models import MODELS\n",
    "from evaluation.utils import apply_models, bootstrap, compute_mean_and_ci\n",
    "from multiprocessing import Pool"
   ]
  },
  {
   "cell_type": "code",
   "execution_count": 3,
   "metadata": {},
   "outputs": [
    {
     "name": "stdout",
     "output_type": "stream",
     "text": [
      "dane (test): Loading prediction for da_dacy_small_ner_fine_grained-0.1.0\n",
      "dane (test): Loading prediction for da_dacy_small_trf-0.2.0\n",
      "dane (test): Loading prediction for da_dacy_medium_ner_fine_grained-0.1.0\n",
      "dane (test): Loading prediction for da_dacy_large_trf-0.2.0\n",
      "dane (test): Loading prediction for da_dacy_medium_trf-0.2.0\n",
      "dane (test): Loading prediction for da_dacy_large_ner_fine_grained-0.1.0\n",
      "dane (test): Loading prediction for saattrupdan/nbailab-base-ner-scandi\n",
      "dane (test): Loading prediction for alexandrainst/da-ner-base\n",
      "dane (test): Loading prediction for da_core_news_trf-3.5.0\n",
      "dane (test): Loading prediction for da_core_news_lg-3.5.0\n",
      "dane (test): Loading prediction for da_core_news_md-3.5.0\n",
      "dane (test): Loading prediction for da_core_news_sm-3.5.0\n"
     ]
    }
   ],
   "source": [
    "dane = {}\n",
    "with Pool(8) as p:\n",
    "    out = p.starmap(\n",
    "        apply_models,\n",
    "        [\n",
    "            (mdl_name, model_getter, \"dane\", [\"test\"])\n",
    "            for mdl_name, model_getter in MODELS.items()\n",
    "        ],\n",
    "    )\n",
    "    for mdl_name, mdl_results in zip(MODELS.keys(), out):  # type: ignore\n",
    "        dane[mdl_name] = mdl_results[\"test\"]"
   ]
  },
  {
   "cell_type": "code",
   "execution_count": null,
   "metadata": {},
   "outputs": [],
   "source": [
    "from spacy.training import Example\n",
    "import pandas as pd\n",
    "from evaluation.utils import create_dataframe\n",
    "\n",
    "def highlight_max(s: pd.Series) -> list:\n",
    "    \"\"\"Highlight the maximum in a Series with bold text.\"\"\"\n",
    "    # convert to str for comparison\n",
    "    s = s.astype(str)\n",
    "    is_max = s == s.max()\n",
    "    return [\"font-weight: bold\" if v else \"\" for v in is_max]\n",
    "\n",
    "\n",
    "def underline_second_max(s: pd.Series) -> list:\n",
    "    \"\"\"Underline the second maximum in a Series.\"\"\"\n",
    "    is_second_max = s == s.sort_values(ascending=False).iloc[1]\n",
    "    return [\"text-decoration: underline\" if v else \"\" for v in is_second_max]\n",
    "\n",
    "\n",
    "def create_table(\n",
    "    df: pd.DataFrame,\n",
    "    caption=\"F1 score with 95% confidence interval calculated using bootstrapping with 100 samples.\",\n",
    "):\n",
    "    # replace index with range\n",
    "    df.index = range(len(df))  # type: ignore\n",
    "\n",
    "    col_names = [(\"\", \"Models\")] + [(\"F1\", col) for col in df.columns[1:]]\n",
    "    super_header = pd.MultiIndex.from_tuples(col_names)\n",
    "    df.columns = super_header\n",
    "\n",
    "    s = df.style.apply(highlight_max, axis=0, subset=df.columns[1:])\n",
    "    s = s.apply(underline_second_max, axis=0, subset=df.columns[1:])\n",
    "\n",
    "    # Add a caption\n",
    "    s = s.set_caption(caption)\n",
    "\n",
    "    # Center the header and left align the model names\n",
    "    s = s.set_properties(subset=df.columns[1:], **{\"text-align\": \"right\"})\n",
    "\n",
    "    super_header_style = [\n",
    "        {\"selector\": \".level0\", \"props\": [(\"text-align\", \"center\")]},\n",
    "        {\"selector\": \".col_heading\", \"props\": [(\"text-align\", \"center\")]},\n",
    "    ]\n",
    "    # Apply the CSS style to the styler\n",
    "    s = s.set_table_styles(super_header_style)  # type: ignore\n",
    "    s = s.set_properties(subset=[(\"\", \"Models\")], **{\"text-align\": \"left\"})\n",
    "    # remove the index\n",
    "    s = s.hide(axis=\"index\")\n",
    "    return s"
   ]
  },
  {
   "cell_type": "code",
   "execution_count": null,
   "metadata": {},
   "outputs": [],
   "source": [
    "with Pool(8) as p:\n",
    "    tables = p.starmap(\n",
    "        create_dataframe,\n",
    "        [(dane[mdl][\"examples\"], mdl, 1, 500) for mdl in dane if \"fine_grained\" not in mdl],\n",
    "    )"
   ]
  },
  {
   "cell_type": "code",
   "execution_count": null,
   "metadata": {},
   "outputs": [],
   "source": [
    "df = pd.concat(tables)\n",
    "# sort columns\n",
    "df = df[[\"Models\", \"Average\", \"Location\", \"Person\", \"Organization\", \"Misc.\"]]\n",
    "create_table(\n",
    "    df,\n",
    "    \"F1 score with 95% confidence interval calculated using bootstrapping with 500 samples.\",\n",
    ")"
   ]
  },
  {
   "attachments": {},
   "cell_type": "markdown",
   "metadata": {},
   "source": [
    "It is worth mentioning that while the `da_dacy_large_trf-0.2.0` and `saattrupdan/nbailab-base-ner-scandi` performs similarly they have their independent strength and weaknesses. The large DaCy model is a multi-task model performing named-entity recognition as only one of its many tasks and thus if you wish to use one of those we would recommend that model. On the other hand the `nbailab-base-ner-scandi` is trained on multiple Scandinavian languages and thus might be ideal if your dataset might contain these languages as well. `saattrupdan/nbailab-base-ner-scandi` is available in DaCy using `nlp.add_pipe(\"dacy/ner\")`.\n",
    "\n",
    "```{admonition} You are missing a model\n",
    ":note:\n",
    "\n",
    "These tables are continually updated and thus we try to limit the number of models to only the most relevant Danish models. Therefore models like Polyglot with strict requirements and consistently worse performance are excluded. If you want to see a specific model, please open an issue on GitHub.\n",
    "```\n",
    "\n",
    "\n"
   ]
  },
  {
   "attachments": {},
   "cell_type": "markdown",
   "metadata": {},
   "source": [
    "### DANSK: Fine-grained Named Entity Recognition\n",
    "\n",
    "DANSK is annotated from the Danish Gigaword Corpus {cite}`missing` and a wide variety of domains including conversational, legal, news, social media, web content,  wiki's and Books. Dansk follows includes the following labels:\n",
    "\n"
   ]
  },
  {
   "attachments": {},
   "cell_type": "markdown",
   "metadata": {},
   "source": [
    "\n",
    "\n",
    "|  Entity        |             Description                                         |\n",
    "| -------- | ---------------------------------------------------- |\n",
    "| PERSON   | People, including fictional                          |\n",
    "| NORP     | Nationalities or religious or political groups       |\n",
    "| FACILITY | Building, airports, highways, bridges, etc.          |\n",
    "| ORGANIZATION | Companies, agencies, institutions, etc.              |\n",
    "| GPE      | Countries, cities, states.                           |\n",
    "| LOCATION | Non-GPE locations, mountain ranges, bodies of water  |\n",
    "| PRODUCT  | Vehicles, weapons, foods, etc. (not services)        |\n",
    "| EVENT    | Named hurricanes, battles, wars, sports events, etc. |\n",
    "| WORK OF ART | Titles of books, songs, etc.                         |\n",
    "| LAW      | Named documents made into laws                       |\n",
    "| LANGUAGE | Any named language                                   |\n",
    "\n",
    "As well as annotation for the following concepts:\n",
    "\n",
    "|   Entity       |   Description                                         |\n",
    "| -------- | ------------------------------------------- |\n",
    "| DATE     | Absolute or relative dates or periods       |\n",
    "| TIME     | Times smaller than a day                    |\n",
    "| PERCENT  | Percentage (including \"*\"%)                |\n",
    "| MONEY    | Monetary values, including unit             |\n",
    "| QUANTITY | Measurements, as of weight or distance      |\n",
    "| ORDINAL  | \"first\", \"second\"                           |\n",
    "| CARDINAL | Numerals that do no fall under another type |\n",
    "\n",
    "\n",
    "We have here opted to create an interactive chart over a table as with the number of labels it quickly becomes unruly. The chart is interactive and you can select the label you want to compare the models on. You can also hover over the dots the see the exact values."
   ]
  },
  {
   "cell_type": "code",
   "execution_count": null,
   "metadata": {},
   "outputs": [],
   "source": [
    "dansk = {}\n",
    "for mdl_name, model_getter in MODELS.items():\n",
    "    mdl_results = apply_models(\n",
    "        mdl_name, model_getter, dataset=\"dansk\", splits=[\"train\", \"dev\", \"test\"]\n",
    "    )\n",
    "    dansk[mdl_name] = mdl_results"
   ]
  },
  {
   "cell_type": "code",
   "execution_count": null,
   "metadata": {},
   "outputs": [],
   "source": [
    "# tables = []\n",
    "# for mdl in dansk:\n",
    "#     # only fine-grained models are trained on DANSK\n",
    "#     if \"fine_grained\" not in mdl:\n",
    "#         continue\n",
    "#     tables.append(\n",
    "#         create_dataframe(dansk[mdl][\"test\"][\"examples\"], mdl, n_rep=100, n_samples=2000)\n",
    "#     )\n",
    "\n",
    "with Pool(8) as p:\n",
    "    tables = p.starmap(\n",
    "        create_dataframe,\n",
    "        [(dansk[mdl][\"test\"][\"examples\"], mdl, 1, 100, 2000) for mdl in dansk if \"fine_grained\" in mdl],\n",
    "    )\n"
   ]
  },
  {
   "cell_type": "code",
   "execution_count": null,
   "metadata": {},
   "outputs": [],
   "source": [
    "import altair as alt\n",
    "\n",
    "\n",
    "def create_dansk_viz(df: pd.DataFrame):\n",
    "    plot_df = df.melt(\n",
    "        id_vars=[\"Models\"],\n",
    "        var_name=\"Label\",\n",
    "        value_name=\"F1 string\",\n",
    "    )\n",
    "\n",
    "    # Convert the score value to a float\n",
    "    plot_df[\"F1\"] = plot_df[\"F1 string\"].apply(\n",
    "        lambda x: float(x.split()[0]) if not isinstance(x, float) else x\n",
    "    )\n",
    "    plot_df[\"CI Lower\"] = plot_df[\"F1 string\"].apply(\n",
    "        lambda x: float(x.split(\"(\")[1].split(\",\")[0])\n",
    "    )\n",
    "    plot_df[\"CI Upper\"] = plot_df[\"F1 string\"].apply(\n",
    "        lambda x: float(x.split(\",\")[1].split(\")\")[0])\n",
    "    )\n",
    "\n",
    "    selection = alt.selection_point(\n",
    "        fields=[\"Label\"],\n",
    "        bind=\"legend\",\n",
    "        value=[{\"Label\": \"Average\"}],\n",
    "    )\n",
    "\n",
    "    base = (\n",
    "        alt.Chart(plot_df)\n",
    "        .mark_point(filled=True, size=100)\n",
    "        .encode(\n",
    "            x=alt.X(\"F1\", title=\"F1\"),\n",
    "            y=\"Models\",\n",
    "            color=\"Label\",\n",
    "            tooltip=[\n",
    "                \"Models\",\n",
    "                \"Label\",\n",
    "                alt.Tooltip(\"F1 string\", title=\"F1\"),\n",
    "            ],\n",
    "            opacity=alt.condition(selection, alt.value(1), alt.value(0.0)),\n",
    "            # only show the tooltip when when the label is selected\n",
    "        )\n",
    "    )\n",
    "    error_bars = (\n",
    "        alt.Chart(plot_df)\n",
    "        .mark_errorbar(ticks=False)\n",
    "        .encode(\n",
    "            x=alt.X(\"CI Lower\", title=\"F1\"),\n",
    "            x2=\"CI Upper\",\n",
    "            y=\"Models\",\n",
    "            color=\"Label\",\n",
    "            opacity=alt.condition(selection, alt.value(1), alt.value(0.0)),\n",
    "        )\n",
    "    )\n",
    "\n",
    "    chart = base + error_bars\n",
    "\n",
    "    return chart.add_params(selection).properties(width=800, height=400)"
   ]
  },
  {
   "cell_type": "code",
   "execution_count": null,
   "metadata": {},
   "outputs": [],
   "source": [
    "dansk_df = pd.concat(tables)\n",
    "create_dansk_viz(dansk_df)"
   ]
  },
  {
   "cell_type": "code",
   "execution_count": null,
   "metadata": {},
   "outputs": [],
   "source": [
    "_df = dansk_df\n",
    "_df = _df.set_index(\"Models\")\n",
    "ent_columns = sorted(\n",
    "    [\n",
    "        \"Event\",\n",
    "        \"Organization\",\n",
    "        \"Language\",\n",
    "        \"Person\",\n",
    "        \"Ordinal\",\n",
    "        \"NORP\",\n",
    "        \"Work of Art\",\n",
    "        \"Facility\",\n",
    "        \"Law\",\n",
    "        \"Location\",\n",
    "        \"Product\",\n",
    "        \"GPE\",\n",
    "    ]\n",
    ")\n",
    "non_ent_columns = sorted([\"Cardinal\", \"Date\", \"Money\", \"Percent\", \"Quantity\", \"Time\"])\n",
    "columns_to_keep = ent_columns + non_ent_columns + [\"Average\"]\n",
    "\n",
    "_df = _df[columns_to_keep]"
   ]
  },
  {
   "cell_type": "code",
   "execution_count": null,
   "metadata": {},
   "outputs": [],
   "source": [
    "table = _df.T\n",
    "# iidx = pd.MultiIndex.from_product([ent_columns, non_ent_columns, [\"Average\"]], names=[\"Entity\", \"Non-Entity\", \"\"])\n",
    "iidx = pd.MultiIndex.from_arrays(\n",
    "    [\n",
    "        [\"Entities\"] * len(ent_columns)\n",
    "        + [\"Non-Entities\"] * len(non_ent_columns)\n",
    "        + [\"Average\"],\n",
    "        ent_columns + non_ent_columns + [\"Average\"],\n",
    "    ]\n",
    ")\n",
    "table.index = iidx\n",
    "\n",
    "mdl_names = [\"Large 0.1.0\", \"Medium 0.1.0\", \"Small 0.1.0\"]\n",
    "header = pd.MultiIndex.from_arrays(\n",
    "    [[\"Fine-grained Models\"] * len(mdl_names), mdl_names]\n",
    ")\n",
    "table.columns = header"
   ]
  },
  {
   "cell_type": "code",
   "execution_count": null,
   "metadata": {},
   "outputs": [],
   "source": [
    "# convert to latex using styler\n",
    "style = table.style.format_index(escape=\"latex\", axis=1).format_index(\n",
    "    escape=\"latex\", axis=0\n",
    ")\n",
    "\n",
    "\n",
    "# highlight the maximum\n",
    "def italicize_second_max(s: pd.Series) -> list:\n",
    "    \"\"\"Italicize the second maximum in a Series.\"\"\"\n",
    "    is_second_max = s == s.sort_values(ascending=False).iloc[1]\n",
    "    # check if the second maximum is the same as the maximum\n",
    "    same_as_max = s == s.max()\n",
    "\n",
    "    if same_as_max.sum() > 1:\n",
    "        # if there are more than one maximum, don't italicize\n",
    "        return [\"font-style: normal\" for v in is_second_max]\n",
    "    return [\"font-style: italic\" if v else \"\" for v in is_second_max]\n",
    "\n",
    "\n",
    "style = style.apply(highlight_max, axis=1)\n",
    "# style = style.apply(underline_second_max, axis=1)\n",
    "style = style.apply(italicize_second_max, axis=1)\n",
    "\n",
    "# apply the CSS style\n",
    "super_header_style = [\n",
    "    {\"selector\": \".level0\", \"props\": [(\"text-align\", \"center\")]},\n",
    "    {\"selector\": \".col_heading\", \"props\": [(\"text-align\", \"center\")]},\n",
    "]\n",
    "style = style.set_table_styles(super_header_style)\n",
    "\n",
    "\n",
    "# add caption\n",
    "caption = \"F1 score with 95% confidence interval calculated using bootstrapping with 100 samples.\"\n",
    "style = style.set_caption(caption)\n",
    "style\n",
    "\n",
    "# latex = style.to_latex(\n",
    "#         hrules=True,\n",
    "#         convert_css=True,\n",
    "#     )\n",
    "\n",
    "# print(latex)"
   ]
  },
  {
   "attachments": {},
   "cell_type": "markdown",
   "metadata": {},
   "source": [
    "## Domain Generalization\n",
    "For the domains generalization benchmark we utilize the [DANSK](https://huggingface.co/datasets/chcaa/DANSK) dataset {cite}`missing`. This dataset is annotated across many different domains including fiction, web content, social media, wikis, news, legal and conversational data.\n",
    "As some models are trained on DANSK (`da_dacy_{size}_ner_fine_grained-{version}`) these models are tested on the test set using all of the\n",
    "labels. "
   ]
  },
  {
   "cell_type": "code",
   "execution_count": null,
   "metadata": {},
   "outputs": [],
   "source": [
    "from evaluation.utils import evaluate_generalization"
   ]
  },
  {
   "cell_type": "code",
   "execution_count": null,
   "metadata": {},
   "outputs": [],
   "source": [
    "tables = []\n",
    "for mdl_name in dansk:\n",
    "    if \"fine_grained\" not in mdl_name:\n",
    "        continue\n",
    "\n",
    "    table = evaluate_generalization(examples=dansk[mdl_name][\"test\"][\"examples\"], mdl_name=mdl_name, n_rep=100, n_samples=1000)\n",
    "    tables.append(table)\n"
   ]
  },
  {
   "cell_type": "code",
   "execution_count": null,
   "metadata": {},
   "outputs": [],
   "source": [
    "df = pd.concat(tables)\n",
    "df = df[df[\"Domain\"] != \"dannet\"]\n",
    "df = df[df[\"Domain\"].notnull()]"
   ]
  },
  {
   "cell_type": "code",
   "execution_count": null,
   "metadata": {},
   "outputs": [],
   "source": [
    "# create altair viz\n",
    "selection = alt.selection_point(\n",
    "    fields=[\"Domain\"],\n",
    "    bind=\"legend\",\n",
    "    value=[{\"Domain\": \"All\"}],\n",
    ")\n",
    "bind_checkbox = alt.binding_checkbox(\n",
    "    name=\"Scale point size by number of documents: \",\n",
    ")\n",
    "param_checkbox = alt.param(bind=bind_checkbox)\n",
    "\n",
    "sort_order = list(dansk.keys())\n",
    "\n",
    "base = (\n",
    "    alt.Chart(df)\n",
    "    .mark_point(filled=True)\n",
    "    .encode(\n",
    "        x=alt.X(\"Average\", title=\"F1\", scale=alt.Scale(domain=[0.0, 1.0])),\n",
    "        y=alt.Y(\"Model\", sort=sort_order),\n",
    "        color=\"Domain\",\n",
    "        size=alt.condition(\n",
    "            param_checkbox, \"Number of docs\", alt.value(100), legend=None\n",
    "        ),\n",
    "        tooltip=[\n",
    "            \"Model\",\n",
    "            \"Domain\",\n",
    "            \"Average F1\",\n",
    "        ],\n",
    "        opacity=alt.condition(selection, alt.value(1), alt.value(0.0)),\n",
    "    )\n",
    ")\n",
    "error_bars = (\n",
    "    alt.Chart(df)\n",
    "    .mark_errorbar(ticks=False)\n",
    "    .encode(\n",
    "        x=alt.X(\"Average Lower CI\", title=\"F1\"),\n",
    "        x2=\"Average Upper CI\",\n",
    "        y=alt.Y(\"Model\", sort=sort_order),\n",
    "        color=\"Domain\",\n",
    "        opacity=alt.condition(selection, alt.value(1), alt.value(0.0)),\n",
    "    )\n",
    ")\n",
    "\n",
    "chart = base + error_bars\n",
    "\n",
    "chart = chart.add_params(selection, param_checkbox).properties(\n",
    "    width=800,\n",
    "    height=400,\n",
    "    title=\"DANSK test set performance\",\n",
    ")\n",
    "\n",
    "\n",
    "chart"
   ]
  },
  {
   "attachments": {},
   "cell_type": "markdown",
   "metadata": {},
   "source": [
    "\n",
    "### Domain generalization using CoNLL-2003 format\n",
    "To test the generalization we here convert the annotations to the CoNLL-2003 format using the labels `Person`, `Location`, `Organization`. As CoNLL-2003, `Location` includes cities, roads, mountains, abstract places, specific buildings, and meeting points. Thus the `GPE` (geo-political entity) were converted to `Location`. The `MISC` category in CoNLL-2003 is a diverse category meant to denote all names not in other categories (encapsulating both e.g. events and adjectives such as ”2004 World Cup” and ”Italian”), and is therefore not included."
   ]
  },
  {
   "cell_type": "code",
   "execution_count": null,
   "metadata": {},
   "outputs": [],
   "source": [
    "from evaluation.utils import convert_to_conll_2003, create_row_conll2003"
   ]
  },
  {
   "cell_type": "code",
   "execution_count": null,
   "metadata": {},
   "outputs": [],
   "source": [
    "tables = []\n",
    "for mdl_name in dansk:\n",
    "    if \"fine_grained\" in mdl_name:\n",
    "        continue\n",
    "    examples = dansk[mdl_name][\"test\"][\"examples\"]\n",
    "    examples += dansk[mdl_name][\"dev\"][\"examples\"]\n",
    "    examples += dansk[mdl_name][\"train\"][\"examples\"]\n",
    "\n",
    "    \n",
    "    examples = convert_to_conll_2003(examples)\n",
    "    table = evaluate_generalization(mdl_name, examples, n_rep=100, n_samples=1000, create_row_fn=create_row_conll2003)\n",
    "    tables.append(table)\n",
    "\n",
    "tables = pd.concat(tables, axis=0)"
   ]
  },
  {
   "cell_type": "code",
   "execution_count": null,
   "metadata": {},
   "outputs": [],
   "source": [
    "df = tables\n",
    "df = df[df[\"Domain\"] != \"dannet\"]   # type: ignore\n",
    "df = df[df[\"Domain\"].notnull()]"
   ]
  },
  {
   "cell_type": "code",
   "execution_count": null,
   "metadata": {},
   "outputs": [],
   "source": [
    "# create altair viz\n",
    "selection = alt.selection_point(\n",
    "    fields=[\"Domain\"],\n",
    "    bind=\"legend\",\n",
    "    value=[{\"Domain\": \"All\"}],\n",
    ")\n",
    "bind_checkbox = alt.binding_checkbox(\n",
    "    name=\"Scale point size by number of documents: \",\n",
    ")\n",
    "param_checkbox = alt.param(bind=bind_checkbox)\n",
    "\n",
    "sort_order = list(dansk.keys())\n",
    "\n",
    "base = (\n",
    "    alt.Chart(df)\n",
    "    .mark_point(filled=True)\n",
    "    .encode(\n",
    "        x=alt.X(\"Average\", title=\"F1\", scale=alt.Scale(domain=[0.0, 1.0])),\n",
    "        y=alt.Y(\"Model\", sort=sort_order),\n",
    "        color=\"Domain\",\n",
    "        size=alt.condition(\n",
    "            param_checkbox, \"Number of docs\", alt.value(100), legend=None\n",
    "        ),\n",
    "        tooltip=[\n",
    "            \"Model\",\n",
    "            \"Domain\",\n",
    "            \"Average F1\",\n",
    "            \"Person F1\",\n",
    "            \"Location F1\",\n",
    "            \"Organization F1\",\n",
    "        ],\n",
    "        opacity=alt.condition(selection, alt.value(1), alt.value(0.0)),\n",
    "    )\n",
    ")\n",
    "error_bars = (\n",
    "    alt.Chart(df)\n",
    "    .mark_errorbar(ticks=False)\n",
    "    .encode(\n",
    "        x=alt.X(\"Average Lower CI\", title=\"F1\"),\n",
    "        x2=\"Average Upper CI\",\n",
    "        y=alt.Y(\"Model\", sort=sort_order),\n",
    "        color=\"Domain\",\n",
    "        opacity=alt.condition(selection, alt.value(1), alt.value(0.0)),\n",
    "    )\n",
    ")\n",
    "\n",
    "chart = base + error_bars\n",
    "\n",
    "chart = chart.add_params(selection, param_checkbox).properties(\n",
    "    width=800,\n",
    "    height=400,\n",
    "    title=\"Generalization to Unseen Domains\",\n",
    ")\n",
    "\n",
    "\n",
    "chart"
   ]
  },
  {
   "attachments": {},
   "cell_type": "markdown",
   "metadata": {},
   "source": [
    "## Biases\n",
    "\n",
    "To examine the biases in Danish models we use augmentation to replace names in the Danish dataset DaNE {cite}`hvingelby2020dane`, this approach\n",
    "is similar to that introduced in the initial DaCy paper {cite}`enevoldsen2021dacy`.\n",
    "\n",
    "Here is a short example of how the augmentation might look like:\n",
    "\n",
    "\n",
    "````{admonition} Example\n",
    "\n",
    "```{admonition} Original\n",
    ":class: note\n",
    "\n",
    "\n",
    "Peter Schmeichel mener også, at det danske landshold anno 2021 tilhører verdenstoppen og kan vinde den kommende kamp mod England.\n",
    "```\n",
    "\n",
    "```{admonition} Female name augmentation\n",
    ":class: important\n",
    "\n",
    "Anne Østergaard mener også, at det danske landshold anno 2021 tilhører verdenstoppen og kan vinde den kommende kamp mod England.\n",
    "```\n",
    "````\n"
   ]
  },
  {
   "cell_type": "code",
   "execution_count": null,
   "metadata": {},
   "outputs": [],
   "source": [
    "gbiases = {}\n",
    "for mdl_name, model_getter in MODELS.items():\n",
    "    if \"fine_grained\" in mdl_name:\n",
    "        continue\n",
    "    mdl_results = apply_models(\n",
    "        mdl_name, model_getter, dataset=\"gender_bias_dane\", splits=[\"test\"]\n",
    "    )\n",
    "    gbiases[mdl_name] = mdl_results"
   ]
  },
  {
   "cell_type": "code",
   "execution_count": null,
   "metadata": {},
   "outputs": [],
   "source": [
    "from collections import defaultdict\n",
    "def augmentation_specific_examples(examples):\n",
    "    aug_group = defaultdict(list)\n",
    "    for example in examples:\n",
    "        aug_name = example.y._.meta[\"augmenter\"]\n",
    "        aug_group[aug_name].append(example)\n",
    "    return aug_group"
   ]
  },
  {
   "cell_type": "code",
   "execution_count": null,
   "metadata": {},
   "outputs": [],
   "source": [
    "tables = []\n",
    "for mdl in gbiases:\n",
    "    print(mdl)\n",
    "    examples = gbiases[mdl][\"test\"][\"examples\"]\n",
    "\n",
    "    aug_group = augmentation_specific_examples(examples)\n",
    "    for aug_name, _examples in aug_group.items():\n",
    "        _examples = convert_to_conll_2003(_examples) # also removes misc.\n",
    "        table = create_dataframe(_examples, mdl, n_rep=100, n_samples=1000)\n",
    "        table[\"Augmentation\"] = aug_name\n",
    "        tables.append(table)"
   ]
  },
  {
   "cell_type": "code",
   "execution_count": null,
   "metadata": {},
   "outputs": [],
   "source": [
    "df = pd.concat(tables)"
   ]
  },
  {
   "cell_type": "code",
   "execution_count": null,
   "metadata": {},
   "outputs": [],
   "source": [
    "# create the table\n",
    "def create_table(df, model_order: list[str]):\n",
    "\n",
    "    table_df = df[[\"Models\", \"Augmentation\", \"Average\"]]\n",
    "\n",
    "    table_df = table_df.pivot(index=\"Models\", columns=\"Augmentation\", values=\"Average\")\n",
    "\n",
    "    # order the models column\n",
    "    table_df = table_df.reindex(model_order)\n",
    "\n",
    "\n",
    "    # create augmentation superheader\n",
    "\n",
    "    aug_superheader = []# [(\"\", \"Models\")]\n",
    "    for aug_name in table_df.columns:\n",
    "        aug_superheader.append((\"Augmentation\", aug_name))\n",
    "\n",
    "    aug_superheader = pd.MultiIndex.from_tuples(aug_superheader)\n",
    "    table_df.columns = aug_superheader\n",
    "    df = table_df.reset_index()\n",
    "    s = df.style.apply(highlight_max, axis=0, subset=df.columns[1:])\n",
    "    s = s.apply(underline_second_max, axis=0, subset=df.columns[1:])\n",
    "\n",
    "    # Add a caption\n",
    "    s = s.set_caption(\"F1 score for each augmentation with 95% confidence interval calculated over 100 repetitions\")\n",
    "\n",
    "    # Center the header and left align the model names\n",
    "    s = s.set_properties(subset=df.columns[1:], **{\"text-align\": \"right\"})\n",
    "\n",
    "    super_header_style = [\n",
    "        {\"selector\": \".level0\", \"props\": [(\"text-align\", \"center\")]},\n",
    "        {\"selector\": \".col_heading\", \"props\": [(\"text-align\", \"center\")]},\n",
    "    ]\n",
    "    # Apply the CSS style to the styler\n",
    "    s = s.set_table_styles(super_header_style)  # type: ignore\n",
    "    # s = s.set_properties(subset=[(\"\", \"Models\")],\n",
    "    #                       **{\"text-align\": \"left\"})\n",
    "    # remove the index\n",
    "    s = s.hide(axis=\"index\")\n",
    "    return s\n",
    "\n"
   ]
  },
  {
   "cell_type": "code",
   "execution_count": null,
   "metadata": {},
   "outputs": [],
   "source": [
    "create_table(df, model_order=list(gbiases.keys()))"
   ]
  },
  {
   "attachments": {},
   "cell_type": "markdown",
   "metadata": {},
   "source": [
    "## Robustness"
   ]
  },
  {
   "attachments": {},
   "cell_type": "markdown",
   "metadata": {},
   "source": [
    "In the paper [DaCy: A Unified Framework for Danish NLP](https://github.com/centre-for-humanities-computing/DaCy/blob/main/papers/DaCy-A-Unified-Framework-for-Danish-NLP/readme.md) we conducted a series on augmentation on the DaNE test set to estimate the robustness and biases of DaCy and other Danish language processing pipelines. This page represents only parts of the paper. We recommend reading the paper for a more thorough and nuanced overview.\n",
    "\n",
    "The augmentation we will be using in this test are performed on the DaNE test set and include the following:\n",
    "\n",
    "- **Spelling Error**: Intended to similar domains with inconsistent spelling, OCR errors, conversational data, etc.. The augmentation includes a series of smaller augmentation:\n",
    "  - Keystroke error: The augmentation is used to introduce errors by replacing a character with a character that is close on the keyboard.\n",
    "  - Character swap: The augmentation is used to introduce errors by swapping two neighboring characters.\n",
    "  - Token swap: The augmentation is used to introduce errors by swapping two neighboring tokens.\n",
    "- **Inconsistent Casing**: This augmentation is used to simulate inconsistent casing in the language and uses two different methods by either randomly capitalizing or lowercasing tokens.\n",
    "- **Synonym Augmentation**: This augmentation is used to simulate the variation and slight grammatical errors in the language and uses two different methods:\n",
    "  - Wordnet Synonym replacement: The augmentation replaces a token with a synonym in WordNet while respecting its syntactic role.\n",
    "  - Embedding Synonym replacement: This augmentation replaces a token with a synonym which tends to appear in similar contexts.\n",
    "- **Inconsistent Spacing**: This augmentation is used to simulate inconsistent spacing in the language and uses two different methods by either randomly adding or removing spaces.\n",
    "- **Historical Spelling**: This augmentation is used to simulate historical spelling in Danish including ASCII spellings of the letters Æ (Ae), Ø (Oe), and Å (Aa) as well as uppercasing nouns.\n",
    "\n",
    "For all of the augmentations the probability of an augmentation is set to 2% and the number of augmentations is set to 1. The augmentations are performed using the [augmenty](https://kennethenevoldsen.github.io/augmenty/index.html). \n",
    "\n",
    "Let's start by examining one of the augmentations:\n",
    "\n",
    "\n",
    "\n",
    "````{admonition} Example\n",
    "\n",
    "```{note} Original\n",
    "\n",
    "Peter Schmeichel mener også, at det danske landshold anno 2021 tilhører verdenstoppen og kan vinde den kommende kamp mod England.\n",
    "```\n",
    "\n",
    "```{important} **2% simulated spelling errors**\n",
    "\n",
    "ADD ME\n",
    "```\n",
    "````\n",
    "\n",
    "The underlying assumption of making these augmentations is that the annotations of the tokens do not change with augmentation. This can naturally sometimes be the case. A single letter *\"hun læste gåden\"* (*she read the puzzle*) and *\"hun løste gåden\"* (*she solved the puzzle*) have quite a different meaning. So while we expect the performance to drop the degree of the drop is interesting to examine and often in comparison to the other models."
   ]
  },
  {
   "cell_type": "code",
   "execution_count": null,
   "metadata": {},
   "outputs": [],
   "source": [
    "robustness = {}\n",
    "for mdl_name, model_getter in MODELS.items():\n",
    "    if \"fine_grained\" in mdl_name:\n",
    "        continue\n",
    "    mdl_results = apply_models(\n",
    "        mdl_name, model_getter, dataset=\"robustness_dane\", splits=[\"test\"]\n",
    "    )\n",
    "    robustness[mdl_name] = mdl_results"
   ]
  },
  {
   "cell_type": "code",
   "execution_count": null,
   "metadata": {},
   "outputs": [],
   "source": [
    "tables = []\n",
    "for mdl in robustness:\n",
    "    print(mdl)\n",
    "    examples = robustness[mdl][\"test\"][\"examples\"]\n",
    "\n",
    "    aug_group = augmentation_specific_examples(examples)\n",
    "    for aug_name, _examples in aug_group.items():\n",
    "        _examples = convert_to_conll_2003(_examples) # also removes misc.\n",
    "        table = create_dataframe(_examples, mdl, n_rep=100, n_samples=1000)\n",
    "        table[\"Augmentation\"] = aug_name\n",
    "        tables.append(table)"
   ]
  },
  {
   "attachments": {},
   "cell_type": "markdown",
   "metadata": {},
   "source": [
    "## Inference Speed\n"
   ]
  },
  {
   "attachments": {},
   "cell_type": "markdown",
   "metadata": {},
   "source": [
    "While performance naturally is important is it also important to know why you might choose one model over another. One of the main reasons for choosing a smaller model is inference speed. The following table shows the inference speed of the different models. The inference speed is measured in words per second (WPS) and is measured on a Apple M1 Pro 16Gb running macOS 13.3.1 (i.e. high-end consumer laptop). The models are tested on the test set of DaNE.\n",
    "\n",
    "```{adminition} GPU Acceleration\n",
    ":class: note\n",
    "\n",
    "These benchmarks does not use GPU acceleration. If you were to use GPU acceleration the inference speed would be much higher, similarly larger models would benefit more from this acceleration.\n",
    "```"
   ]
  },
  {
   "cell_type": "code",
   "execution_count": null,
   "metadata": {},
   "outputs": [],
   "source": [
    "dane = {}\n",
    "for mdl_name, model_getter in MODELS.items():\n",
    "    mdl_results = apply_models(mdl_name, model_getter, dataset=\"dane\", splits=[\"test\"])\n",
    "    dane[mdl_name] = mdl_results[\"test\"]"
   ]
  },
  {
   "cell_type": "code",
   "execution_count": null,
   "metadata": {},
   "outputs": [],
   "source": [
    "rows = []\n",
    "n_words = None\n",
    "for mdl_name, model_getter in MODELS.items():\n",
    "    total_time = dane[mdl_name][\"test\"][\"time_in_seconds\"]\n",
    "    if n_words is None:\n",
    "        examples = dane[mdl_name][\"test\"][\"examples\"]\n",
    "        n_words = sum(len(e.y) for e in examples)\n",
    "    wps = n_words / total_time\n",
    "    rows.append({\"Model\": mdl_name, \"Words per second\": wps, \"Total time\": total_time})\n",
    "\n",
    "speed = pd.DataFrame(rows)    "
   ]
  },
  {
   "cell_type": "code",
   "execution_count": null,
   "metadata": {},
   "outputs": [],
   "source": [
    "speed"
   ]
  },
  {
   "attachments": {},
   "cell_type": "markdown",
   "metadata": {},
   "source": [
    "# testing\n"
   ]
  },
  {
   "cell_type": "code",
   "execution_count": null,
   "metadata": {},
   "outputs": [],
   "source": [
    "from evaluation.datasets import datasets\n",
    "\n",
    "ds = datasets.get(\"gender_bias_dane\")()\n",
    "examples1 = ds[\"test\"]\n",
    "ds = datasets.get(\"gender_bias_dane\")()\n",
    "examples2 = ds[\"test\"]"
   ]
  },
  {
   "cell_type": "code",
   "execution_count": null,
   "metadata": {},
   "outputs": [],
   "source": []
  }
 ],
 "metadata": {
  "kernelspec": {
   "display_name": "dacy",
   "language": "python",
   "name": "python3"
  },
  "language_info": {
   "codemirror_mode": {
    "name": "ipython",
    "version": 3
   },
   "file_extension": ".py",
   "mimetype": "text/x-python",
   "name": "python",
   "nbconvert_exporter": "python",
   "pygments_lexer": "ipython3",
   "version": "3.10.10"
  },
  "orig_nbformat": 4
 },
 "nbformat": 4,
 "nbformat_minor": 2
}
