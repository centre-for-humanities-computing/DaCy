{
 "cells": [
  {
   "attachments": {},
   "cell_type": "markdown",
   "metadata": {},
   "source": [
    "[![Colab](https://colab.research.google.com/assets/colab-badge.svg)](https://colab.research.google.com/github/centre-for-humanities-computing/dacy/blob/master/docs/tutorials/sentiment-neural.ipynb#scrollTo=5ZQ9ZQ2QZQ2Q)\n",
    "\n",
    "# Sentiment Analysis\n",
    "\n",
    "Sentiment analysis (or opinion mining) is a method used to determine whether text is\n",
    "positive, negative or neutral. Sentiment analysis is e.g. used by businesses to monitor\n",
    "brand and product sentiment in customer feedback, or in research to e.g. examine\n",
    "[political biases](https://tidsskrift.dk/lwo/article/view/96014).\n",
    "\n",
    "Sentiment analysis can be split into rule-based and neural approaches. Rule-based\n",
    "approaches typically used a dictionary of rated positive and negative words and employs\n",
    "a series of rules such as negations to estimate whether a text is postive and negative.\n",
    "\n",
    "Typically rules-based approaches are notably faster, but performs worse compared to their\n",
    "neural counterpart especially on more complex sentiment such as sarcasm where it is hard\n",
    "to defined clear rules. It is thus important to take this into consideration when\n",
    "choosing between the models.\n",
    "\n",
    "### Overview of Sentiment Models\n",
    "\n",
    "DaCy include a variety of models for sentiment analysis. Depending on the use-case\n",
    "different models might be more suitable. \n",
    "\n",
    "| Model                | Reference | Domain                      | Output Type                                                                  | Model Type                             |\n",
    "| ------------------- | --------- | --------------------------- | ---------------------------------------------------------------------------- | -------------------------------------- |\n",
    "| `dacy/subjectivity` | [DaNLP]   | Europarl and Twitter        | `[\"objective\", \"subjective\"]`                                                | Neural ([Danish BERT]) |\n",
    "| `dacy/polarity`     | [DaNLP]   | Europarl and Twitter        | `[\"positive\", \"neutral\", \"negative\"]`                                        | Neural ([Danish BERT]) |\n",
    "| `dacy/emotion`      | [DaNLP]   | Social Media                | `[\"Emotional\", \"No emotion\"]` and `[\"Glæde/Sindsro\", \"Tillid/Accept\", ... ]` | Neural ([Danish BERT]) |\n",
    "| `asent_da_v1`       | [Asent]   | Microblogs and Social media | Polarity score (continuous)                                                  | Rule-based                             |\n",
    "\n",
    "[DaNLP]: https://github.com/alexandrainst/danlp/blob/master/docs/docs/tasks/sentiment_analysis.md\n",
    "[Asent]: https://kennethenevoldsen.github.io/asent/index.html\n",
    "[Danish BERT]: https://huggingface.co/Maltehb/danish-bert-botxo\n",
    "\n"
   ]
  },
  {
   "attachments": {},
   "cell_type": "markdown",
   "metadata": {},
   "source": [
    "# Subjectivity\n",
    "\n",
    "The subjectivity model is a part of BertTone a model trained by\n",
    "[DaNLP](https://github.com/alexandrainst/danlp). The models detect whether a\n",
    "text is subjective or objective in its phrasing.\n",
    "\n",
    "To add the subjectivity model to your pipeline simply run:"
   ]
  },
  {
   "cell_type": "code",
   "execution_count": 2,
   "metadata": {
    "tags": [
     "hide-output"
    ]
   },
   "outputs": [
    {
     "data": {
      "text/plain": [
       "<spacy_wrap.pipeline_component_seq_clf.SequenceClassificationTransformer at 0x11f895660>"
      ]
     },
     "execution_count": 2,
     "metadata": {},
     "output_type": "execute_result"
    }
   ],
   "source": [
    "import dacy\n",
    "import spacy\n",
    "\n",
    "nlp = spacy.blank(\"da\") # an empty spacy pipeline\n",
    "# could also be a dacy pipeline, e.g. nlp = dacy.load(\"large\")\n",
    "nlp.add_pipe(\"dacy/subjectivity\")"
   ]
  },
  {
   "attachments": {},
   "cell_type": "markdown",
   "metadata": {},
   "source": [
    "This will add the `dacy.subjectivity` component to your pipeline, which adds\n",
    "two extensions to the Doc object,`subjectivity_prob` and `subjectivity`.\n",
    "These show the probabilities of a document being subjective and whether not a\n",
    "document is subjective or objective. Let's look at an example using the model:"
   ]
  },
  {
   "cell_type": "code",
   "execution_count": 3,
   "metadata": {},
   "outputs": [
    {
     "name": "stdout",
     "output_type": "stream",
     "text": [
      "objective\n",
      "{'prob': array([1., 0.], dtype=float32), 'labels': ['objective', 'subjective']}\n",
      "subjective\n",
      "{'prob': array([0., 1.], dtype=float32), 'labels': ['objective', 'subjective']}\n"
     ]
    }
   ],
   "source": [
    "texts = [\n",
    "    \"Analysen viser, at økonomien bliver forfærdelig dårlig\",\n",
    "    \"Jeg tror alligevel, det bliver godt\",\n",
    "]\n",
    "\n",
    "docs = nlp.pipe(texts)\n",
    "\n",
    "for doc in docs:\n",
    "    print(doc._.subjectivity)\n",
    "    print(doc._.subjectivity_prob)"
   ]
  },
  {
   "attachments": {},
   "cell_type": "markdown",
   "metadata": {},
   "source": [
    "# Polarity\n",
    "\n",
    "Similar to the subjectivity model, the polarity model is a of the BertTone model. \n",
    "This model classifies the polarity of a text, i.e. whether it is positve,\n",
    "negative or neutral.\n",
    "\n",
    "To add the polarity model to your pipeline simply run:\n"
   ]
  },
  {
   "cell_type": "code",
   "execution_count": 4,
   "metadata": {
    "tags": [
     "hide-output"
    ]
   },
   "outputs": [
    {
     "data": {
      "text/plain": [
       "<spacy_wrap.pipeline_component_seq_clf.SequenceClassificationTransformer at 0x16afab340>"
      ]
     },
     "execution_count": 4,
     "metadata": {},
     "output_type": "execute_result"
    }
   ],
   "source": [
    "nlp = spacy.blank(\"da\") # an empty spacy pipeline\n",
    "# could also be a dacy pipeline, e.g. nlp = dacy.load(\"large\")\n",
    "nlp.add_pipe(\"dacy/polarity\")"
   ]
  },
  {
   "cell_type": "markdown",
   "metadata": {},
   "source": [
    "This will add the `dacy.polarity` component to your pipeline, which adds\n",
    "two extensions to the Doc object,`polarity_prob` and `polarity`.\n",
    "These show the probabilities of a document being positive/neutral/negative and\n",
    "the resulting classification. Let's look at an example using the model:"
   ]
  },
  {
   "cell_type": "code",
   "execution_count": 5,
   "metadata": {},
   "outputs": [
    {
     "name": "stdout",
     "output_type": "stream",
     "text": [
      "negative\n",
      "{'prob': array([0.002, 0.008, 0.99 ], dtype=float32), 'labels': ['positive', 'neutral', 'negative']}\n",
      "positive\n",
      "{'prob': array([0.981, 0.019, 0.   ], dtype=float32), 'labels': ['positive', 'neutral', 'negative']}\n"
     ]
    }
   ],
   "source": [
    "# apply the pipeline\n",
    "docs = nlp.pipe(texts)\n",
    "\n",
    "for doc in docs:\n",
    "    # print the model predictions\n",
    "    print(doc._.polarity)\n",
    "    print(doc._.polarity_prob)"
   ]
  },
  {
   "attachments": {},
   "cell_type": "markdown",
   "metadata": {},
   "source": [
    "# Emotion\n",
    "\n",
    "The emotion model used in DaCy is trained by\n",
    "[DaNLP](https://github.com/alexandrainst/danlp). It exists of two models.\n",
    "One for detecting wether a text is emotionally laden and one for classifying\n",
    "which emotion it is out of the following emotions:\n",
    "Similar to the subjectivity model, the polarity model is a of the BertTone model. \n",
    "This model classifies the polarity of a text, i.e. whether it is positve,\n",
    "negative or neutral.\n",
    "\n",
    "- \"Glæde/Sindsro\" (happiness)\n",
    "- \"Tillid/Accept\" (trust/acceptance)\n",
    "- \"Forventning/Interrese\" (interest)\n",
    "- \"Overasket/Målløs\" (surprise)\n",
    "- \"Vrede/Irritation\" (Anger)\n",
    "- \"Foragt/Modvilje\" (Contempt)\n",
    "- \"Sorg/trist\" (Sadness)\n",
    "- \"Frygt/Bekymret\" (Fear)\n",
    "\n",
    "To add the emotion models to your pipeline simply run:\n"
   ]
  },
  {
   "cell_type": "code",
   "execution_count": 6,
   "metadata": {
    "tags": [
     "hide-output"
    ]
   },
   "outputs": [
    {
     "name": "stderr",
     "output_type": "stream",
     "text": [
      "/Users/au561649/Github/DaCy/src/dacy/sentiment/wrapped_models.py:143: UserWarning: The 'emotion' component assumes the 'emotionally_laden' extension is set. To set it you can run  nlp.add_pipe('dacy/emotionally_laden')\n",
      "  warn(\n"
     ]
    },
    {
     "data": {
      "text/plain": [
       "<spacy_wrap.pipeline_component_seq_clf.SequenceClassificationTransformer at 0x16afb91e0>"
      ]
     },
     "execution_count": 6,
     "metadata": {},
     "output_type": "execute_result"
    }
   ],
   "source": [
    "nlp = spacy.blank(\"da\") # an empty spacy pipeline\n",
    "# could also be a dacy pipeline, e.g. nlp = dacy.load(\"large\")\n",
    "nlp.add_pipe(\"dacy/emotionally_laden\") # for emotianal/non-emotional\n",
    "nlp.add_pipe(\"dacy/emotion\") # for type of emotion"
   ]
  },
  {
   "cell_type": "markdown",
   "metadata": {},
   "source": [
    "This wil set the two extensions to the Doc object, `laden` and `emotion`.\n",
    "These shows whether a text is emotionally laden and what emotion it contains.\n",
    "Both of these also come with `*_prob`-suffix if you want to examine the\n",
    "probabilites of the model.\n",
    "\n",
    "Let's look at an example using the model:"
   ]
  },
  {
   "cell_type": "code",
   "execution_count": 7,
   "metadata": {},
   "outputs": [
    {
     "name": "stdout",
     "output_type": "stream",
     "text": [
      "emotional\n",
      "\t tillid/accept\n",
      "emotional\n",
      "\t sorg/trist\n",
      "emotional\n",
      "\t overasket/målløs\n",
      "no emotion\n"
     ]
    }
   ],
   "source": [
    "texts = [\n",
    "    \"Ej den bil er såå flot\",\n",
    "    \"Fuck det er bare så FUCKING træls!\",\n",
    "    \"Har i set at Tesla har landet en raket på månen? Det er vildt!!\",\n",
    "    \"der er et træ i haven\"\n",
    "]\n",
    "\n",
    "docs = nlp.pipe(texts)\n",
    "\n",
    "for doc in docs:\n",
    "    print(doc._.emotionally_laden)\n",
    "    # if emotional print the emotion\n",
    "    if doc._.emotionally_laden == \"emotional\":\n",
    "        print(\"\\t\", doc._.emotion)"
   ]
  },
  {
   "attachments": {},
   "cell_type": "markdown",
   "metadata": {},
   "source": [
    "# Dictionary-Based Sentiment\n",
    "\n",
    "if you wish to perform rule-based sentiment analysis using DaCy we recommend using\n",
    "[Asent](https://github.com/KennethEnevoldsen/asent). Asent is a rule-based sentiment\n",
    "analysis library for performing sentiment analysis for multiple languages including\n",
    "Danish.\n",
    "\n",
    "To get started using Asent install it using:\n",
    "\n",
    "```bash\n",
    "pip install asent\n",
    "```\n",
    "\n",
    "first we will need to set up the spaCy pipeline, which only need to include a method for creating sentences. You can use DaCy for this as it performs dependendency parsing, but it is notably faster to use a rule-based sentencizer. "
   ]
  },
  {
   "cell_type": "code",
   "execution_count": 8,
   "metadata": {},
   "outputs": [
    {
     "name": "stdout",
     "output_type": "stream",
     "text": [
      "neg=0.413 neu=0.587 pos=0.0 compound=-0.5448\n"
     ]
    }
   ],
   "source": [
    "import spacy\n",
    "import asent\n",
    "\n",
    "# load a spacy pipeline\n",
    "# equivalent to a dacy.load()\n",
    "# but notably faster\n",
    "nlp = spacy.blank(\"da\")\n",
    "nlp.add_pipe(\"sentencizer\")\n",
    "\n",
    "# add the rule-based sentiment model from asent.\n",
    "nlp.add_pipe(\"asent_da_v1\")\n",
    "\n",
    "# try an example\n",
    "text = \"jeg er ikke mega glad.\"\n",
    "doc = nlp(text)\n",
    "\n",
    "# print polarity of document, scaled to be between -1, and 1\n",
    "print(doc._.polarity)"
   ]
  },
  {
   "attachments": {},
   "cell_type": "markdown",
   "metadata": {},
   "source": [
    "Asent also allow us to obtain more information such as the rated valence of a single token, whether a word is a negation or the valence of a words accounting for its context (polarity):"
   ]
  },
  {
   "cell_type": "code",
   "execution_count": 9,
   "metadata": {},
   "outputs": [
    {
     "name": "stdout",
     "output_type": "stream",
     "text": [
      "polarity=0.0 token=jeg span=jeg | Valence: 0.0 | Negation: False\n",
      "polarity=0.0 token=er span=er | Valence: 0.0 | Negation: False\n",
      "polarity=0.0 token=ikke span=ikke | Valence: 0.0 | Negation: True\n",
      "polarity=0.0 token=mega span=mega | Valence: 0.0 | Negation: False\n",
      "polarity=-2.516 token=glad span=ikke mega glad | Valence: 3.0 | Negation: False\n",
      "polarity=0.0 token=. span=. | Valence: 0.0 | Negation: False\n"
     ]
    }
   ],
   "source": [
    "for token in doc:\n",
    "    print(f\"{token._.polarity} | Valence: {token._.valence} | Negation: {token._.is_negation}\")"
   ]
  },
  {
   "attachments": {},
   "cell_type": "markdown",
   "metadata": {},
   "source": [
    "Here we see that words such as *\"glad\"* (happy) is rated positively (valence), but\n",
    "accounting for the negation *\"ikke\"* (not) it becomes negative. Furthermore, Asent also allows you to visualize the predictions: \n",
    "\n",
    "```{admonition} Learn more\n",
    ":class: hint\n",
    "\n",
    "If you want to learn more about how asent works check out the excellent [documentation](https://kennethenevoldsen.github.io/asent/introduction.html).\n",
    "```"
   ]
  },
  {
   "cell_type": "code",
   "execution_count": 10,
   "metadata": {},
   "outputs": [
    {
     "data": {
      "text/html": [
       "<span class=\"tex2jax_ignore\"><div class=\"spans\" style=\"line-height: 2.5; direction: ltr\">jeg er \n",
       "<span style=\"font-weight: bold; display: inline-block; position: relative; height: 60px;\">\n",
       "    ikke\n",
       "    \n",
       "<span style=\"background: #f88d52; top: 40px; height: 4px; left: -1px; width: calc(100% + 2px); position: absolute;\">\n",
       "</span>\n",
       "\n",
       "    \n",
       "<span style=\"background: #f88d52; top: 40px; height: 4px; border-top-left-radius: 3px; border-bottom-left-radius: 3px; left: -1px; width: calc(100% + 2px); position: absolute;\">\n",
       "    <span style=\"background: #f88d52; z-index: 10; color: #000; top: -0.5em; padding: 2px 3px; position: absolute; font-size: 0.6em; font-weight: bold; line-height: 1; border-radius: 3px\">\n",
       "        -2.5\n",
       "    </span>\n",
       "</span>\n",
       "\n",
       "\n",
       "</span>\n",
       "\n",
       "<span style=\"font-weight: bold; display: inline-block; position: relative; height: 60px;\">\n",
       "    mega\n",
       "    \n",
       "<span style=\"background: #f88d52; top: 40px; height: 4px; left: -1px; width: calc(100% + 2px); position: absolute;\">\n",
       "</span>\n",
       "\n",
       "    \n",
       "</span>\n",
       "\n",
       "<span style=\"font-weight: bold; display: inline-block; position: relative; height: 60px;\">\n",
       "    glad\n",
       "    \n",
       "<span style=\"background: #f88d52; top: 40px; height: 4px; left: -1px; width: calc(100% + 2px); position: absolute;\">\n",
       "</span>\n",
       "\n",
       "    \n",
       "</span>\n",
       ". </div></span>"
      ],
      "text/plain": [
       "<IPython.core.display.HTML object>"
      ]
     },
     "metadata": {},
     "output_type": "display_data"
    }
   ],
   "source": [
    "# visualize model prediction\n",
    "asent.visualize(doc, style=\"prediction\")"
   ]
  },
  {
   "cell_type": "code",
   "execution_count": 11,
   "metadata": {},
   "outputs": [
    {
     "data": {
      "text/html": [
       "<span class=\"tex2jax_ignore\"><svg xmlns=\"http://www.w3.org/2000/svg\" xmlns:xlink=\"http://www.w3.org/1999/xlink\" xml:lang=\"en\" id=\"56f40990d572425ea5e7124c8859f5da-0\" class=\"displacy\" width=\"1100\" height=\"312.0\" direction=\"ltr\" style=\"max-width: none; height: 312.0px; color: #000000; background: #ffffff; font-family: Arial; direction: ltr\">\n",
       "<text class=\"displacy-token\" fill=\"currentColor\" text-anchor=\"middle\" y=\"222.0\">\n",
       "    <tspan class=\"displacy-word\" fill=\"currentColor\" x=\"50\">jeg</tspan>\n",
       "    <tspan class=\"displacy-tag\" dy=\"2em\" fill=\"currentColor\" x=\"50\">0.0</tspan>\n",
       "</text>\n",
       "\n",
       "<text class=\"displacy-token\" fill=\"currentColor\" text-anchor=\"middle\" y=\"222.0\">\n",
       "    <tspan class=\"displacy-word\" fill=\"currentColor\" x=\"225\">er</tspan>\n",
       "    <tspan class=\"displacy-tag\" dy=\"2em\" fill=\"currentColor\" x=\"225\">0.0</tspan>\n",
       "</text>\n",
       "\n",
       "<text class=\"displacy-token\" fill=\"currentColor\" text-anchor=\"middle\" y=\"222.0\">\n",
       "    <tspan class=\"displacy-word\" fill=\"currentColor\" x=\"400\">ikke</tspan>\n",
       "    <tspan class=\"displacy-tag\" dy=\"2em\" fill=\"currentColor\" x=\"400\">0.0</tspan>\n",
       "</text>\n",
       "\n",
       "<text class=\"displacy-token\" fill=\"currentColor\" text-anchor=\"middle\" y=\"222.0\">\n",
       "    <tspan class=\"displacy-word\" fill=\"currentColor\" x=\"575\">mega</tspan>\n",
       "    <tspan class=\"displacy-tag\" dy=\"2em\" fill=\"currentColor\" x=\"575\">0.0</tspan>\n",
       "</text>\n",
       "\n",
       "<text class=\"displacy-token\" fill=\"currentColor\" text-anchor=\"middle\" y=\"222.0\">\n",
       "    <tspan class=\"displacy-word\" fill=\"currentColor\" x=\"750\">glad</tspan>\n",
       "    <tspan class=\"displacy-tag\" dy=\"2em\" fill=\"currentColor\" x=\"750\">-2.5 (3.0)</tspan>\n",
       "</text>\n",
       "\n",
       "<text class=\"displacy-token\" fill=\"currentColor\" text-anchor=\"middle\" y=\"222.0\">\n",
       "    <tspan class=\"displacy-word\" fill=\"currentColor\" x=\"925\">.</tspan>\n",
       "    <tspan class=\"displacy-tag\" dy=\"2em\" fill=\"currentColor\" x=\"925\">0.0</tspan>\n",
       "</text>\n",
       "\n",
       "<g class=\"displacy-arrow\">\n",
       "    <path class=\"displacy-arc\" id=\"arrow-56f40990d572425ea5e7124c8859f5da-0-0\" stroke-width=\"2px\" d=\"M595,177.0 C595,89.5 745.0,89.5 745.0,177.0\" fill=\"none\" stroke=\"currentColor\"/>\n",
       "    <text dy=\"1.25em\" style=\"font-size: 0.8em; letter-spacing: 1px\">\n",
       "        <textPath xlink:href=\"#arrow-56f40990d572425ea5e7124c8859f5da-0-0\" class=\"displacy-label\" startOffset=\"50%\" side=\"left\" fill=\"currentColor\" text-anchor=\"middle\">intensified by</textPath>\n",
       "    </text>\n",
       "    <path class=\"displacy-arrowhead\" d=\"M595,179.0 L587,167.0 603,167.0\" fill=\"currentColor\"/>\n",
       "</g>\n",
       "\n",
       "<g class=\"displacy-arrow\">\n",
       "    <path class=\"displacy-arc\" id=\"arrow-56f40990d572425ea5e7124c8859f5da-0-1\" stroke-width=\"2px\" d=\"M420,177.0 C420,2.0 750.0,2.0 750.0,177.0\" fill=\"none\" stroke=\"currentColor\"/>\n",
       "    <text dy=\"1.25em\" style=\"font-size: 0.8em; letter-spacing: 1px\">\n",
       "        <textPath xlink:href=\"#arrow-56f40990d572425ea5e7124c8859f5da-0-1\" class=\"displacy-label\" startOffset=\"50%\" side=\"left\" fill=\"currentColor\" text-anchor=\"middle\">negated by</textPath>\n",
       "    </text>\n",
       "    <path class=\"displacy-arrowhead\" d=\"M420,179.0 L412,167.0 428,167.0\" fill=\"currentColor\"/>\n",
       "</g>\n",
       "</svg></span>"
      ],
      "text/plain": [
       "<IPython.core.display.HTML object>"
      ]
     },
     "metadata": {},
     "output_type": "display_data"
    }
   ],
   "source": [
    "# visualize the analysis performed by the model:\n",
    "asent.visualize(doc, style=\"analysis\")"
   ]
  },
  {
   "attachments": {},
   "cell_type": "markdown",
   "metadata": {},
   "source": [
    "```{admonition} Other resources\n",
    ":class: note\n",
    "\n",
    "Asent uses a dictionary of words rated by humans. It is possible to change these ratings out.\n",
    "Notably it uses the words rated by two other resources; \n",
    "[AFINN](https://github.com/fnielsen/afinn), which does not implement any rules such as\n",
    "negations and [sentida](https://github.com/Guscode/Sentida) which does use rules\n",
    "similarly to asent.\n",
    "```"
   ]
  }
 ],
 "metadata": {
  "kernelspec": {
   "display_name": "Python 3.9.7 ('.venv': poetry)",
   "language": "python",
   "name": "python3"
  },
  "language_info": {
   "codemirror_mode": {
    "name": "ipython",
    "version": 3
   },
   "file_extension": ".py",
   "mimetype": "text/x-python",
   "name": "python",
   "nbconvert_exporter": "python",
   "pygments_lexer": "ipython3",
   "version": "3.10.10"
  },
  "orig_nbformat": 2,
  "vscode": {
   "interpreter": {
    "hash": "41a0a94681c1d0d7a5ae694864ee715c089937d98d908faa5b8f75504686895e"
   }
  }
 },
 "nbformat": 4,
 "nbformat_minor": 2
}
