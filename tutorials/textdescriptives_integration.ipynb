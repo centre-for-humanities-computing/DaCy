{
 "cells": [
  {
   "cell_type": "markdown",
   "metadata": {},
   "source": [
    "# Extracting etrics from text using DaCy and TextDescriptives\n",
    "\n",
    "\n",
    "<a target=\"_blank\" href=\"https://colab.research.google.com/github/centre-for-humanities-computing/DaCy/blob/main/textdescriptives_integration.ipynb\">\n",
    "  <img src=\"https://colab.research.google.com/assets/colab-badge.svg\" alt=\"Open In Colab\"/>\n",
    "</a>\n",
    "\n",
    "DaCy allows you to use other packages in the spaCy universe as you normally would - just powered by the DaCy models. \n",
    "\n",
    "The following tutorial shows you how to use DaCy and [TextDescriptives](https://github.com/HLasse/TextDescriptives/) to extract a variety of metrics from text. For more information on the metrics that can be extracted, see the [TextDescriptives documentation](https://hlasse.github.io/TextDescriptives/index.html).\n"
   ]
  },
  {
   "cell_type": "markdown",
   "metadata": {},
   "source": [
    "## Data\n",
    "In this tutorial we'll use TextDescriptives, powered by DaCy, to get a quick overview of the [SMS Spam Collection Data Set](https://archive.ics.uci.edu/ml/datasets/SMS+Spam+Collection).\n",
    "The dataset contains 5572 SMS messages categorized as ham or spam. \n",
    "\n",
    "To start, let's load a dataset and get a bit familiar with it.\n"
   ]
  },
  {
   "cell_type": "code",
   "execution_count": 1,
   "metadata": {},
   "outputs": [
    {
     "data": {
      "text/html": [
       "<div>\n",
       "<style scoped>\n",
       "    .dataframe tbody tr th:only-of-type {\n",
       "        vertical-align: middle;\n",
       "    }\n",
       "\n",
       "    .dataframe tbody tr th {\n",
       "        vertical-align: top;\n",
       "    }\n",
       "\n",
       "    .dataframe thead th {\n",
       "        text-align: right;\n",
       "    }\n",
       "</style>\n",
       "<table border=\"1\" class=\"dataframe\">\n",
       "  <thead>\n",
       "    <tr style=\"text-align: right;\">\n",
       "      <th></th>\n",
       "      <th>label</th>\n",
       "      <th>message</th>\n",
       "    </tr>\n",
       "  </thead>\n",
       "  <tbody>\n",
       "    <tr>\n",
       "      <th>0</th>\n",
       "      <td>ham</td>\n",
       "      <td>Go until jurong point, crazy.. Available only ...</td>\n",
       "    </tr>\n",
       "    <tr>\n",
       "      <th>1</th>\n",
       "      <td>ham</td>\n",
       "      <td>Ok lar... Joking wif u oni...</td>\n",
       "    </tr>\n",
       "    <tr>\n",
       "      <th>2</th>\n",
       "      <td>spam</td>\n",
       "      <td>Free entry in 2 a wkly comp to win FA Cup fina...</td>\n",
       "    </tr>\n",
       "    <tr>\n",
       "      <th>3</th>\n",
       "      <td>ham</td>\n",
       "      <td>U dun say so early hor... U c already then say...</td>\n",
       "    </tr>\n",
       "    <tr>\n",
       "      <th>4</th>\n",
       "      <td>ham</td>\n",
       "      <td>Nah I don't think he goes to usf, he lives aro...</td>\n",
       "    </tr>\n",
       "  </tbody>\n",
       "</table>\n",
       "</div>"
      ],
      "text/plain": [
       "  label                                            message\n",
       "0   ham  Go until jurong point, crazy.. Available only ...\n",
       "1   ham                      Ok lar... Joking wif u oni...\n",
       "2  spam  Free entry in 2 a wkly comp to win FA Cup fina...\n",
       "3   ham  U dun say so early hor... U c already then say...\n",
       "4   ham  Nah I don't think he goes to usf, he lives aro..."
      ]
     },
     "execution_count": 1,
     "metadata": {},
     "output_type": "execute_result"
    }
   ],
   "source": [
    "import textdescriptives as td\n",
    "import dacy\n",
    "\n",
    "from textdescriptives.utils import load_sms_data\n",
    "\n",
    "df = load_sms_data()\n",
    "df.head()"
   ]
  },
  {
   "cell_type": "code",
   "execution_count": 2,
   "metadata": {},
   "outputs": [
    {
     "data": {
      "text/plain": [
       "ham     4825\n",
       "spam     747\n",
       "Name: label, dtype: int64"
      ]
     },
     "execution_count": 2,
     "metadata": {},
     "output_type": "execute_result"
    }
   ],
   "source": [
    "df[\"label\"].value_counts()"
   ]
  },
  {
   "cell_type": "markdown",
   "metadata": {},
   "source": [
    "## Adding TextDescriptives components to DaCy\n",
    "\n",
    "Adding TextDescriptives components to a DaCy pipeline, follows exactly the same procedure as for any spaCy model. Let's add the `readability` and `dependency_distance` components, which add readability metrics and sentence complexity metrics related to dependency distance. \n",
    "\n",
    "Because we are using a DaCy model, the `dependency_distance` component will use the dependency parser from DaCy for its calculations. "
   ]
  },
  {
   "cell_type": "code",
   "execution_count": 3,
   "metadata": {},
   "outputs": [
    {
     "name": "stderr",
     "output_type": "stream",
     "text": [
      "/Users/au554730/Desktop/Projects/DaCy/.venv/lib/python3.10/site-packages/spacy/util.py:877: UserWarning: [W095] Model 'da_dacy_medium_trf' (0.1.0) was trained with spaCy v3.1 and may not be 100% compatible with the current version (3.4.4). If you see errors or degraded performance, download a newer compatible model or retrain your custom model with the current spaCy version. For more details and available updates, run: python -m spacy validate\n",
      "  warnings.warn(warn_msg)\n",
      "/Users/au554730/Desktop/Projects/DaCy/.venv/lib/python3.10/site-packages/spacy_transformers/pipeline_component.py:405: UserWarning: Automatically converting a transformer component from spacy-transformers v1.0 to v1.1+. If you see errors or degraded performance, download a newer compatible model or retrain your custom model with the current spacy-transformers version. For more details and available updates, run: python -m spacy validate\n",
      "  warnings.warn(warn_msg)\n"
     ]
    },
    {
     "name": "stdout",
     "output_type": "stream",
     "text": [
      "\u001b[38;5;4mℹ 'textdescriptives/descriptive_stats' component is required for\n",
      "'textdescriptives.readability'. Adding to pipe.\u001b[0m\n"
     ]
    },
    {
     "data": {
      "text/plain": [
       "<textdescriptives.components.dependency_distance.DependencyDistance at 0x10b44e320>"
      ]
     },
     "execution_count": 3,
     "metadata": {},
     "output_type": "execute_result"
    }
   ],
   "source": [
    "nlp = dacy.load(\"da_dacy_medium_trf-0.1.0\")\n",
    "\n",
    "nlp.add_pipe(\"textdescriptives/readability\")\n",
    "nlp.add_pipe(\"textdescriptives/dependency_distance\")"
   ]
  },
  {
   "cell_type": "markdown",
   "metadata": {},
   "source": [
    "From now on, whenever we pass a document through the pipeline (`nlp`), TextDescriptives will add readability and dependency distance metrics to the document.\n",
    "\n",
    "Let's load the data and pass it through the pipeline."
   ]
  },
  {
   "cell_type": "code",
   "execution_count": 4,
   "metadata": {},
   "outputs": [],
   "source": [
    "# to speed things up (especially on cpu) let's subsample the data\n",
    "df = df.sample(500)\n",
    "\n",
    "doc = nlp.pipe(df[\"message\"])"
   ]
  },
  {
   "cell_type": "code",
   "execution_count": 5,
   "metadata": {},
   "outputs": [
    {
     "name": "stderr",
     "output_type": "stream",
     "text": [
      "/Users/au554730/Desktop/Projects/DaCy/.venv/lib/python3.10/site-packages/spacy/pipeline/attributeruler.py:150: UserWarning: [W036] The component 'matcher' does not have any patterns defined.\n",
      "  matches = self.matcher(doc, allow_missing=True, as_spans=False)\n"
     ]
    }
   ],
   "source": [
    "# extract the metrics as a dataframe\n",
    "metrics = td.extract_df(doc, include_text=False)"
   ]
  },
  {
   "cell_type": "code",
   "execution_count": 6,
   "metadata": {},
   "outputs": [
    {
     "data": {
      "text/html": [
       "<div>\n",
       "<style scoped>\n",
       "    .dataframe tbody tr th:only-of-type {\n",
       "        vertical-align: middle;\n",
       "    }\n",
       "\n",
       "    .dataframe tbody tr th {\n",
       "        vertical-align: top;\n",
       "    }\n",
       "\n",
       "    .dataframe thead th {\n",
       "        text-align: right;\n",
       "    }\n",
       "</style>\n",
       "<table border=\"1\" class=\"dataframe\">\n",
       "  <thead>\n",
       "    <tr style=\"text-align: right;\">\n",
       "      <th></th>\n",
       "      <th>label</th>\n",
       "      <th>message</th>\n",
       "      <th>flesch_reading_ease</th>\n",
       "      <th>flesch_kincaid_grade</th>\n",
       "      <th>smog</th>\n",
       "      <th>gunning_fog</th>\n",
       "      <th>automated_readability_index</th>\n",
       "      <th>coleman_liau_index</th>\n",
       "      <th>lix</th>\n",
       "      <th>rix</th>\n",
       "      <th>...</th>\n",
       "      <th>syllables_per_token_std</th>\n",
       "      <th>n_tokens</th>\n",
       "      <th>n_unique_tokens</th>\n",
       "      <th>proportion_unique_tokens</th>\n",
       "      <th>n_characters</th>\n",
       "      <th>n_sentences</th>\n",
       "      <th>dependency_distance_mean</th>\n",
       "      <th>dependency_distance_std</th>\n",
       "      <th>prop_adjacent_dependency_relation_mean</th>\n",
       "      <th>prop_adjacent_dependency_relation_std</th>\n",
       "    </tr>\n",
       "  </thead>\n",
       "  <tbody>\n",
       "    <tr>\n",
       "      <th>3008</th>\n",
       "      <td>spam</td>\n",
       "      <td>Update_Now - 12Mths Half Price Orange line ren...</td>\n",
       "      <td>NaN</td>\n",
       "      <td>NaN</td>\n",
       "      <td>NaN</td>\n",
       "      <td>NaN</td>\n",
       "      <td>NaN</td>\n",
       "      <td>NaN</td>\n",
       "      <td>NaN</td>\n",
       "      <td>NaN</td>\n",
       "      <td>...</td>\n",
       "      <td>NaN</td>\n",
       "      <td>NaN</td>\n",
       "      <td>NaN</td>\n",
       "      <td>NaN</td>\n",
       "      <td>NaN</td>\n",
       "      <td>NaN</td>\n",
       "      <td>NaN</td>\n",
       "      <td>NaN</td>\n",
       "      <td>NaN</td>\n",
       "      <td>NaN</td>\n",
       "    </tr>\n",
       "    <tr>\n",
       "      <th>5144</th>\n",
       "      <td>ham</td>\n",
       "      <td>I'm in office now da:)where are you?</td>\n",
       "      <td>NaN</td>\n",
       "      <td>NaN</td>\n",
       "      <td>NaN</td>\n",
       "      <td>NaN</td>\n",
       "      <td>NaN</td>\n",
       "      <td>NaN</td>\n",
       "      <td>NaN</td>\n",
       "      <td>NaN</td>\n",
       "      <td>...</td>\n",
       "      <td>NaN</td>\n",
       "      <td>NaN</td>\n",
       "      <td>NaN</td>\n",
       "      <td>NaN</td>\n",
       "      <td>NaN</td>\n",
       "      <td>NaN</td>\n",
       "      <td>NaN</td>\n",
       "      <td>NaN</td>\n",
       "      <td>NaN</td>\n",
       "      <td>NaN</td>\n",
       "    </tr>\n",
       "    <tr>\n",
       "      <th>738</th>\n",
       "      <td>ham</td>\n",
       "      <td>Wish i were with you now!</td>\n",
       "      <td>NaN</td>\n",
       "      <td>NaN</td>\n",
       "      <td>NaN</td>\n",
       "      <td>NaN</td>\n",
       "      <td>NaN</td>\n",
       "      <td>NaN</td>\n",
       "      <td>NaN</td>\n",
       "      <td>NaN</td>\n",
       "      <td>...</td>\n",
       "      <td>NaN</td>\n",
       "      <td>NaN</td>\n",
       "      <td>NaN</td>\n",
       "      <td>NaN</td>\n",
       "      <td>NaN</td>\n",
       "      <td>NaN</td>\n",
       "      <td>NaN</td>\n",
       "      <td>NaN</td>\n",
       "      <td>NaN</td>\n",
       "      <td>NaN</td>\n",
       "    </tr>\n",
       "    <tr>\n",
       "      <th>3350</th>\n",
       "      <td>ham</td>\n",
       "      <td>At what time are you coming.</td>\n",
       "      <td>NaN</td>\n",
       "      <td>NaN</td>\n",
       "      <td>NaN</td>\n",
       "      <td>NaN</td>\n",
       "      <td>NaN</td>\n",
       "      <td>NaN</td>\n",
       "      <td>NaN</td>\n",
       "      <td>NaN</td>\n",
       "      <td>...</td>\n",
       "      <td>NaN</td>\n",
       "      <td>NaN</td>\n",
       "      <td>NaN</td>\n",
       "      <td>NaN</td>\n",
       "      <td>NaN</td>\n",
       "      <td>NaN</td>\n",
       "      <td>NaN</td>\n",
       "      <td>NaN</td>\n",
       "      <td>NaN</td>\n",
       "      <td>NaN</td>\n",
       "    </tr>\n",
       "    <tr>\n",
       "      <th>4589</th>\n",
       "      <td>ham</td>\n",
       "      <td>Tomorrow i am not going to theatre. . . So i c...</td>\n",
       "      <td>NaN</td>\n",
       "      <td>NaN</td>\n",
       "      <td>NaN</td>\n",
       "      <td>NaN</td>\n",
       "      <td>NaN</td>\n",
       "      <td>NaN</td>\n",
       "      <td>NaN</td>\n",
       "      <td>NaN</td>\n",
       "      <td>...</td>\n",
       "      <td>NaN</td>\n",
       "      <td>NaN</td>\n",
       "      <td>NaN</td>\n",
       "      <td>NaN</td>\n",
       "      <td>NaN</td>\n",
       "      <td>NaN</td>\n",
       "      <td>NaN</td>\n",
       "      <td>NaN</td>\n",
       "      <td>NaN</td>\n",
       "      <td>NaN</td>\n",
       "    </tr>\n",
       "  </tbody>\n",
       "</table>\n",
       "<p>5 rows × 28 columns</p>\n",
       "</div>"
      ],
      "text/plain": [
       "     label                                            message  \\\n",
       "3008  spam  Update_Now - 12Mths Half Price Orange line ren...   \n",
       "5144   ham               I'm in office now da:)where are you?   \n",
       "738    ham                          Wish i were with you now!   \n",
       "3350   ham                       At what time are you coming.   \n",
       "4589   ham  Tomorrow i am not going to theatre. . . So i c...   \n",
       "\n",
       "      flesch_reading_ease  flesch_kincaid_grade  smog  gunning_fog  \\\n",
       "3008                  NaN                   NaN   NaN          NaN   \n",
       "5144                  NaN                   NaN   NaN          NaN   \n",
       "738                   NaN                   NaN   NaN          NaN   \n",
       "3350                  NaN                   NaN   NaN          NaN   \n",
       "4589                  NaN                   NaN   NaN          NaN   \n",
       "\n",
       "      automated_readability_index  coleman_liau_index  lix  rix  ...  \\\n",
       "3008                          NaN                 NaN  NaN  NaN  ...   \n",
       "5144                          NaN                 NaN  NaN  NaN  ...   \n",
       "738                           NaN                 NaN  NaN  NaN  ...   \n",
       "3350                          NaN                 NaN  NaN  NaN  ...   \n",
       "4589                          NaN                 NaN  NaN  NaN  ...   \n",
       "\n",
       "      syllables_per_token_std  n_tokens  n_unique_tokens  \\\n",
       "3008                      NaN       NaN              NaN   \n",
       "5144                      NaN       NaN              NaN   \n",
       "738                       NaN       NaN              NaN   \n",
       "3350                      NaN       NaN              NaN   \n",
       "4589                      NaN       NaN              NaN   \n",
       "\n",
       "      proportion_unique_tokens  n_characters  n_sentences  \\\n",
       "3008                       NaN           NaN          NaN   \n",
       "5144                       NaN           NaN          NaN   \n",
       "738                        NaN           NaN          NaN   \n",
       "3350                       NaN           NaN          NaN   \n",
       "4589                       NaN           NaN          NaN   \n",
       "\n",
       "      dependency_distance_mean  dependency_distance_std  \\\n",
       "3008                       NaN                      NaN   \n",
       "5144                       NaN                      NaN   \n",
       "738                        NaN                      NaN   \n",
       "3350                       NaN                      NaN   \n",
       "4589                       NaN                      NaN   \n",
       "\n",
       "      prop_adjacent_dependency_relation_mean  \\\n",
       "3008                                     NaN   \n",
       "5144                                     NaN   \n",
       "738                                      NaN   \n",
       "3350                                     NaN   \n",
       "4589                                     NaN   \n",
       "\n",
       "      prop_adjacent_dependency_relation_std  \n",
       "3008                                    NaN  \n",
       "5144                                    NaN  \n",
       "738                                     NaN  \n",
       "3350                                    NaN  \n",
       "4589                                    NaN  \n",
       "\n",
       "[5 rows x 28 columns]"
      ]
     },
     "execution_count": 6,
     "metadata": {},
     "output_type": "execute_result"
    }
   ],
   "source": [
    "# join the metrics to the original dataframe\n",
    "df = df.join(metrics, how=\"left\")\n",
    "df.head()"
   ]
  },
  {
   "cell_type": "markdown",
   "metadata": {},
   "source": [
    "That's it! Let's do a bit of exploratory data analysis to get to know the data a bit more."
   ]
  },
  {
   "cell_type": "markdown",
   "metadata": {},
   "source": [
    "## Exploratory Data Analysis\n",
    "With the metrics extracted, let's do some quick exploratory data analysis to get a sense of the data"
   ]
  },
  {
   "cell_type": "code",
   "execution_count": 7,
   "metadata": {},
   "outputs": [
    {
     "data": {
      "text/plain": [
       "<AxesSubplot: xlabel='label', ylabel='lix'>"
      ]
     },
     "execution_count": 7,
     "metadata": {},
     "output_type": "execute_result"
    },
    {
     "data": {
      "image/png": "[encoded data removed]",
      "text/plain": [
       "<Figure size 640x480 with 1 Axes>"
      ]
     },
     "metadata": {},
     "output_type": "display_data"
    }
   ],
   "source": [
    "import seaborn as sns\n",
    "sns.boxplot(x=\"label\", y=\"lix\", data=df)"
   ]
  },
  {
   "cell_type": "markdown",
   "metadata": {},
   "source": [
    "Let's run a quick test to see if any of our metrics correlate strongly with the label"
   ]
  },
  {
   "cell_type": "code",
   "execution_count": 8,
   "metadata": {},
   "outputs": [
    {
     "data": {
      "text/plain": [
       "smog                                      0.606264\n",
       "prop_adjacent_dependency_relation_std    -0.346843\n",
       "dependency_distance_mean                  0.306175\n",
       "n_sentences                              -0.288504\n",
       "dependency_distance_std                  -0.188335\n",
       "sentence_length_mean                      0.168566\n",
       "sentence_length_median                    0.164842\n",
       "rix                                       0.150669\n",
       "syllables_per_token_median                0.149010\n",
       "prop_adjacent_dependency_relation_mean    0.131484\n",
       "dtype: float64"
      ]
     },
     "execution_count": 8,
     "metadata": {},
     "output_type": "execute_result"
    }
   ],
   "source": [
    "# encode the label as a boolean\n",
    "df[\"is_ham\"] = df[\"label\"] == \"ham\"\n",
    "# compute the correlation between all metrics and the label\n",
    "metrics_correlations = metrics.corrwith(df[\"is_ham\"]).sort_values(key=abs, ascending=False)\n",
    "metrics_correlations[:10]"
   ]
  },
  {
   "cell_type": "markdown",
   "metadata": {},
   "source": [
    "That's some pretty high correlations - let's plot a few of them! "
   ]
  },
  {
   "cell_type": "code",
   "execution_count": 9,
   "metadata": {},
   "outputs": [
    {
     "data": {
      "image/png": "[encoded data removed]",
      "text/plain": [
       "<Figure size 1000x500 with 3 Axes>"
      ]
     },
     "metadata": {},
     "output_type": "display_data"
    }
   ],
   "source": [
    "# plot a kde plot for the top 3 metrics\n",
    "import matplotlib.pyplot as plt\n",
    "fig, ax = plt.subplots(1,3, figsize=(10, 5), sharey=False)\n",
    "for i, metric in enumerate(metrics_correlations.index[:3]):\n",
    "    sns.kdeplot(df, x=metric, hue=\"label\", ax=ax[i])"
   ]
  },
  {
   "cell_type": "markdown",
   "metadata": {},
   "source": [
    "Cool! We've now done a quick analysis of the SMS dataset and found some differences in the distributions of some readability and dependency-distance metrics between the actual SMS's and spam. \n",
    "\n",
    "Next steps could be continue the exploratory data analysis or to build a simple classifier using the extracted metrics."
   ]
  },
  {
   "cell_type": "markdown",
   "metadata": {},
   "source": []
  }
 ],
 "metadata": {
  "kernelspec": {
   "display_name": "Python 3.10.9 ('.venv': venv)",
   "language": "python",
   "name": "python3"
  },
  "language_info": {
   "codemirror_mode": {
    "name": "ipython",
    "version": 3
   },
   "file_extension": ".py",
   "mimetype": "text/x-python",
   "name": "python",
   "nbconvert_exporter": "python",
   "pygments_lexer": "ipython3",
   "version": "3.10.9"
  },
  "orig_nbformat": 4,
  "vscode": {
   "interpreter": {
    "hash": "7696522cf4f46c6fcf85cf83d54d17a8de288a8ae42dfd264dd9ede637ad59af"
   }
  }
 },
 "nbformat": 4,
 "nbformat_minor": 2
}
