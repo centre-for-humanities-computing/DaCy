{
 "cells": [
  {
   "cell_type": "markdown",
   "metadata": {},
   "source": [
    "# Analysing Hate-Speech using DaCy\n",
    "\n",
    "DaCy currently does not include its own tools for hate-speech analysis, but incorperates existing\n",
    "state-of-the-art models for Danish.\n",
    "\n",
    "To get started using dacy install it using:\n",
    "\n",
    "```bash\n",
    "pip install dacy\n",
    "```"
   ]
  },
  {
   "cell_type": "code",
   "execution_count": 7,
   "metadata": {},
   "outputs": [],
   "source": [
    "import dacy\n",
    "import spacy"
   ]
  },
  {
   "cell_type": "markdown",
   "metadata": {},
   "source": [
    "## Hate Speech Models\n",
    "--- \n",
    "\n",
    "\n",
    "| Name  | Creator   | Domain   | Output Type  | Model Type | \n",
    "|:---|:-------------|:------|:------|:------|\n",
    "| `dacy.hatespeech_detection` | [DaNLP](https://github.com/alexandrainst/danlp/blob/master/docs/docs/tasks/hatespeech.md)  | Facebook  | `[\"not offensive\", \"offensive\"]` | [Ælæctra](https://huggingface.co/Maltehb/aelaectra-danish-electra-small-cased) | \n",
    "| `dacy.hatespeech_classification` | [DaNLP](https://github.com/alexandrainst/danlp/blob/master/docs/docs/tasks/sentiment_analysis.md#bert-tone)  | Facebook  | `[\"særlig opmærksomhed\", \"personangreb\", \"sprogbrug\", \"spam & indhold\"]` | [Danish BERT by BotXO](https://huggingface.co/Maltehb/danish-bert-botxo) | \n",
    "\n",
    "> *Note* There exist others models for Danish hate-speech detection. We have chosen the BERT offensive model as it obtains a reasonable trade-off between good [performance and speed](https://github.com/alexandrainst/danlp/blob/master/docs/docs/tasks/hatespeech.md#-benchmarks) and includes a classification for classifying the type of hate-speech. The other models include [A&ttack](https://github.com/ogtal/A-ttack), [ELECTRA Offensive](https://github.com/alexandrainst/danlp/blob/master/docs/docs/tasks/hatespeech.md#-electra-offensive-electra), [BERT HateSpeech](https://github.com/alexandrainst/danlp/blob/master/docs/docs/tasks/hatespeech.md#-bert-hatespeech-bertdr), and [Guscode/DKbert-hatespeech-detection](https://huggingface.co/Guscode/DKbert-hatespeech-detection). \n",
    "\n",
    "\n",
    "The hate speech model used in DaCy is trained by [DaNLP](https://github.com/alexandrainst/danlp). It exists of two models. One for detecting wether a text is hate speech laden and one for classifying the type of hate speech.\n",
    "\n",
    "To add the emotion models to your pipeline simply run:\n"
   ]
  },
  {
   "cell_type": "code",
   "execution_count": 8,
   "metadata": {},
   "outputs": [
    {
     "name": "stderr",
     "output_type": "stream",
     "text": [
      "/Users/au561649/Desktop/Github/DaCy/.venv/lib/python3.9/site-packages/torch/autocast_mode.py:162: UserWarning: User provided device_type of 'cuda', but CUDA is not available. Disabling\n",
      "  warnings.warn('User provided device_type of \\'cuda\\', but CUDA is not available. Disabling')\n"
     ]
    },
    {
     "name": "stdout",
     "output_type": "stream",
     "text": [
      "Added components to pipeline.\n"
     ]
    }
   ],
   "source": [
    "nlp = spacy.blank(\"da\") # create an empty pipeline\n",
    "\n",
    "# add the hate speech models\n",
    "nlp.add_pipe(\"dacy.hatespeech_detection\")\n",
    "nlp.add_pipe(\"dacy.hatespeech_classification\")\n",
    "\n",
    "print(\"Added components to pipeline.\")"
   ]
  },
  {
   "cell_type": "markdown",
   "metadata": {},
   "source": [
    "This wil set the two extensions to the Doc object, `is_offensive` and `hate_speech_type`.\n",
    "These shows whether a text is emotionally laden and what emotion it contains.\n",
    "\n",
    "Both of these also come with `*_prob`-suffix if you want to examine the\n",
    "probabilites of the models.\n",
    "\n",
    "Let's look at an example using the model:"
   ]
  },
  {
   "cell_type": "code",
   "execution_count": 9,
   "metadata": {},
   "outputs": [
    {
     "name": "stdout",
     "output_type": "stream",
     "text": [
      "offensive\n",
      "\t sprogbrug\n",
      "not offensive\n"
     ]
    }
   ],
   "source": [
    "texts = [\n",
    "    \"senile gamle idiot\", \n",
    "    \"hej har du haft en god dag\"\n",
    "]\n",
    "\n",
    "# apply the pipeline\n",
    "docs = nlp.pipe(texts)\n",
    "\n",
    "for doc in docs:\n",
    "    # print model predictions\n",
    "    print(doc._.is_offensive)\n",
    "    # print type of hate-speech if it is hate-speech\n",
    "    if doc._.is_offensive == \"offensive\":\n",
    "        print(\"\\t\", doc._.hate_speech_type)\n"
   ]
  }
 ],
 "metadata": {
  "kernelspec": {
   "display_name": "Python 3.9.7 ('.venv': poetry)",
   "language": "python",
   "name": "python3"
  },
  "language_info": {
   "codemirror_mode": {
    "name": "ipython",
    "version": 3
   },
   "file_extension": ".py",
   "mimetype": "text/x-python",
   "name": "python",
   "nbconvert_exporter": "python",
   "pygments_lexer": "ipython3",
   "version": "3.9.7"
  },
  "orig_nbformat": 2,
  "vscode": {
   "interpreter": {
    "hash": "41a0a94681c1d0d7a5ae694864ee715c089937d98d908faa5b8f75504686895e"
   }
  }
 },
 "nbformat": 4,
 "nbformat_minor": 2
}
