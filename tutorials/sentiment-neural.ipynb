{
 "cells": [
  {
   "cell_type": "markdown",
   "metadata": {},
   "source": [
    "# Neural Sentiment Analysis using DaCy\n",
    "\n",
    "DaCy currently does not include its own tools for sentiment extraction, but a couple of good tools already exists. DaCy providers wrappers for these to use them in the spaCy/DaCy framework. This allows you to get all of the best models in one place.\n",
    "\n",
    "To get started using dacy install it using:\n",
    "\n",
    "```bash\n",
    "pip install dacy\n",
    "```"
   ]
  },
  {
   "cell_type": "code",
   "execution_count": 16,
   "metadata": {},
   "outputs": [],
   "source": [
    "import dacy\n",
    "import spacy"
   ]
  },
  {
   "cell_type": "markdown",
   "metadata": {},
   "source": [
    "# Overview of Models\n",
    "--- \n",
    "\n",
    "\n",
    "| Name  | Creator   | Domain   | Output Type  | Model Type | \n",
    "|:---|:-------------|:------|:------|:------|\n",
    "| `dacy.subjectivity` | [DaNLP](https://github.com/alexandrainst/danlp/blob/master/docs/docs/tasks/sentiment_analysis.md#bert-tone)  | Europarl and Twitter  | `[\"objective\", \"subjective\"]` | [Danish BERT by BotXO](https://huggingface.co/Maltehb/danish-bert-botxo) | \n",
    "| `dacy.polarity` | [DaNLP](https://github.com/alexandrainst/danlp/blob/master/docs/docs/tasks/sentiment_analysis.md#bert-tone)  | Europarl and Twitter  | `['postive', 'neutral', 'negative']` | [Danish BERT by BotXO](https://huggingface.co/Maltehb/danish-bert-botxo) | \n",
    "| `dacy.emotion` | [DaNLP](https://github.com/alexandrainst/danlp/blob/master/docs/docs/tasks/sentiment_analysis.md#bert-emotion)  | Social Media  | `[\"Emotional\", \"No emotion\"] and  [\"Glæde/Sindsro\", \"Tillid/Accept\", ... ]` | [Danish BERT by BotXO](https://huggingface.co/Maltehb/danish-bert-botxo) | \n",
    "| Asent | [Asent](https://kennethenevoldsen.github.io/asent/index.html)    | Microblogs and Social media  | `Polarity score (continuous)`     | Rule-based | \n",
    "\n",
    "> *Note* To see how to use the rule-based model Asent for sentiment analysis check out the respective [guide](https://centre-for-humanities-computing.github.io/DaCy/dacy.sentiment.html).\n"
   ]
  },
  {
   "cell_type": "markdown",
   "metadata": {},
   "source": [
    "## Subjectivity\n",
    "---\n",
    "\n",
    "The subjectivity model is a part of BertTone a model trained by\n",
    "[DaNLP](https://github.com/alexandrainst/danlp). The models detect whether a\n",
    "text is subjective or not.\n",
    "\n",
    "To add the subjectivity model to your pipeline simply run:"
   ]
  },
  {
   "cell_type": "code",
   "execution_count": 17,
   "metadata": {},
   "outputs": [
    {
     "name": "stdout",
     "output_type": "stream",
     "text": [
      "Added subjectivity compoenent\n"
     ]
    }
   ],
   "source": [
    "nlp = spacy.blank(\"da\") # an empty spacy pipeline\n",
    "nlp.add_pipe(\"dacy.subjectivity\")\n",
    "print(\"Added subjectivity compoenent\")"
   ]
  },
  {
   "cell_type": "markdown",
   "metadata": {},
   "source": [
    "This will add the `dacy.subjectivity` component to your pipeline, which adds\n",
    "two extensions to the Doc object,`subjectivity_prob` and `subjectivity`.\n",
    "These show the probabilities of a document being subjective and whether not a\n",
    "document is subjective or objective. Let's look at an example using the model:"
   ]
  },
  {
   "cell_type": "code",
   "execution_count": 18,
   "metadata": {},
   "outputs": [
    {
     "name": "stdout",
     "output_type": "stream",
     "text": [
      "objective\n",
      "{'prob': array([1., 0.], dtype=float32), 'labels': ['objective', 'subjective']}\n",
      "subjective\n",
      "{'prob': array([0., 1.], dtype=float32), 'labels': ['objective', 'subjective']}\n"
     ]
    }
   ],
   "source": [
    "texts = [\n",
    "    \"Analysen viser, at økonomien bliver forfærdelig dårlig\",\n",
    "    \"Jeg tror alligevel, det bliver godt\",\n",
    "]\n",
    "\n",
    "docs = nlp.pipe(texts)\n",
    "\n",
    "for doc in docs:\n",
    "    print(doc._.subjectivity)\n",
    "    print(doc._.subjectivity_prob)"
   ]
  },
  {
   "cell_type": "markdown",
   "metadata": {},
   "source": [
    "## Polarity\n",
    "---\n",
    "\n",
    "Similar to the subjectivity model, the polarity model is a of the BertTone model. \n",
    "This model classifies the polarity of a text, i.e. whether it is positve,\n",
    "negative or neutral.\n",
    "\n",
    "To add the polarity model to your pipeline simply run:\n"
   ]
  },
  {
   "cell_type": "code",
   "execution_count": 19,
   "metadata": {},
   "outputs": [
    {
     "name": "stdout",
     "output_type": "stream",
     "text": [
      "Added polarity compoenent\n"
     ]
    }
   ],
   "source": [
    "nlp = spacy.blank(\"da\") # an empty spacy pipeline\n",
    "nlp.add_pipe(\"dacy.polarity\")\n",
    "print(\"Added polarity compoenent\")"
   ]
  },
  {
   "cell_type": "markdown",
   "metadata": {},
   "source": [
    "This will add the `dacy.polarity` component to your pipeline, which adds\n",
    "two extensions to the Doc object,`polarity_prob` and `polarity`.\n",
    "These show the probabilities of a document being positive/neutral/negative and\n",
    "the resulting classification. Let's look at an example using the model:"
   ]
  },
  {
   "cell_type": "code",
   "execution_count": 20,
   "metadata": {},
   "outputs": [
    {
     "name": "stdout",
     "output_type": "stream",
     "text": [
      "negative\n",
      "{'prob': array([0.002, 0.008, 0.99 ], dtype=float32), 'labels': ['positive', 'neutral', 'negative']}\n",
      "positive\n",
      "{'prob': array([0.981, 0.019, 0.   ], dtype=float32), 'labels': ['positive', 'neutral', 'negative']}\n"
     ]
    }
   ],
   "source": [
    "# apply the pipeline\n",
    "docs = nlp.pipe(texts)\n",
    "\n",
    "for doc in docs:\n",
    "    # print the model predictions\n",
    "    print(doc._.polarity)\n",
    "    print(doc._.polarity_prob)"
   ]
  },
  {
   "cell_type": "markdown",
   "metadata": {},
   "source": [
    "## Emotion\n",
    "---\n",
    "\n",
    "The emotion model used in DaCy is trained by\n",
    "[DaNLP](https://github.com/alexandrainst/danlp). It exists of two models.\n",
    "One for detecting wether a text is emotionally laden and one for classifying\n",
    "which emotion it is out of the following emotions:\n",
    "Similar to the subjectivity model, the polarity model is a of the BertTone model. \n",
    "This model classifies the polarity of a text, i.e. whether it is positve,\n",
    "negative or neutral.\n",
    "\n",
    "- \"Glæde/Sindsro\" (happiness)\n",
    "- \"Tillid/Accept\" (trust/acceptance)\n",
    "- \"Forventning/Interrese\" (interest)\n",
    "- \"Overasket/Målløs\" (surprise)\n",
    "- \"Vrede/Irritation\" (Anger)\n",
    "- \"Foragt/Modvilje\" (Contempt)\n",
    "- \"Sorg/trist\" (Sadness)\n",
    "- \"Frygt/Bekymret\" (Fear)\n",
    "\n",
    "To add the emotion models to your pipeline simply run:\n"
   ]
  },
  {
   "cell_type": "code",
   "execution_count": 21,
   "metadata": {},
   "outputs": [
    {
     "name": "stderr",
     "output_type": "stream",
     "text": [
      "/Users/au561649/Desktop/Github/DaCy/dacy/sentiment/wrapped_models.py:142: UserWarning: The 'emotion' component assumes the 'emotionally_laden' extension is set. To set it you can run  nlp.add_pipe('dacy.emotionally_laden')\n",
      "  warn(\n"
     ]
    },
    {
     "name": "stdout",
     "output_type": "stream",
     "text": [
      "Pipeline components added\n"
     ]
    }
   ],
   "source": [
    "nlp = spacy.blank(\"da\")\n",
    "nlp.add_pipe(\"dacy.emotionally_laden\")\n",
    "nlp.add_pipe(\"dacy.emotion\")\n",
    "\n",
    "print(\"Pipeline components added\")"
   ]
  },
  {
   "cell_type": "markdown",
   "metadata": {},
   "source": [
    "This wil set the two extensions to the Doc object, `laden` and `emotion`.\n",
    "These shows whether a text is emotionally laden and what emotion it contains.\n",
    "Both of these also come with `*_prob`-suffix if you want to examine the\n",
    "probabilites of the model.\n",
    "\n",
    "Let's look at an example using the model:"
   ]
  },
  {
   "cell_type": "code",
   "execution_count": 22,
   "metadata": {},
   "outputs": [
    {
     "name": "stdout",
     "output_type": "stream",
     "text": [
      "emotional\n",
      "\t tillid/accept\n",
      "emotional\n",
      "\t sorg/trist\n",
      "emotional\n",
      "\t overasket/målløs\n",
      "no emotion\n"
     ]
    }
   ],
   "source": [
    "texts = [\n",
    "    \"Ej den bil er såå flot\",\n",
    "    \"Fuck det er bare så FUCKING træls!\",\n",
    "    \"Har i set at Tesla har landet en raket på månen? Det er vildt!!\",\n",
    "    \"der er et træ i haven\"\n",
    "]\n",
    "\n",
    "docs = nlp.pipe(texts)\n",
    "\n",
    "for doc in docs:\n",
    "    print(doc._.emotionally_laden)\n",
    "    # if emotional print the emotion\n",
    "    if doc._.emotionally_laden == \"emotional\":\n",
    "        print(\"\\t\", doc._.emotion)"
   ]
  }
 ],
 "metadata": {
  "kernelspec": {
   "display_name": "Python 3.9.7 ('.venv': poetry)",
   "language": "python",
   "name": "python3"
  },
  "language_info": {
   "codemirror_mode": {
    "name": "ipython",
    "version": 3
   },
   "file_extension": ".py",
   "mimetype": "text/x-python",
   "name": "python",
   "nbconvert_exporter": "python",
   "pygments_lexer": "ipython3",
   "version": "3.9.7"
  },
  "orig_nbformat": 2,
  "vscode": {
   "interpreter": {
    "hash": "41a0a94681c1d0d7a5ae694864ee715c089937d98d908faa5b8f75504686895e"
   }
  }
 },
 "nbformat": 4,
 "nbformat_minor": 2
}
